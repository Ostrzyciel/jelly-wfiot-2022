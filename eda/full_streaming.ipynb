{
 "cells": [
  {
   "cell_type": "code",
   "execution_count": 1,
   "metadata": {
    "collapsed": true,
    "pycharm": {
     "name": "#%%\n"
    }
   },
   "outputs": [],
   "source": [
    "import pandas as pd\n",
    "import numpy as np\n",
    "import seaborn as sns\n",
    "import util\n",
    "import os\n",
    "import json"
   ]
  },
  {
   "cell_type": "code",
   "execution_count": 2,
   "outputs": [],
   "source": [
    "dir_grpc = 'data/grpc/'\n",
    "dir_kafka = 'data/kafka/'"
   ],
   "metadata": {
    "collapsed": false,
    "pycharm": {
     "name": "#%%\n"
    }
   }
  },
  {
   "cell_type": "code",
   "execution_count": 3,
   "outputs": [],
   "source": [
    "exps = dict()"
   ],
   "metadata": {
    "collapsed": false,
    "pycharm": {
     "name": "#%%\n"
    }
   }
  },
  {
   "cell_type": "code",
   "execution_count": 4,
   "outputs": [],
   "source": [
    "with open('data/sizes_grouped_1000.json') as fp:\n",
    "    size_map_1000 = json.load(fp)"
   ],
   "metadata": {
    "collapsed": false,
    "pycharm": {
     "name": "#%%\n"
    }
   }
  },
  {
   "cell_type": "code",
   "execution_count": 5,
   "outputs": [],
   "source": [
    "# Load gRPC results\n",
    "for filename in sorted(os.listdir(dir_grpc)):\n",
    "    with open(dir_grpc + filename) as f:\n",
    "        data = json.loads(f.read())\n",
    "    kts = data['result']['size'] / np.array([\n",
    "        float(ts['t1client'] - ts['t0server']) / 1_000_000\n",
    "        for ts in data['result']['times']\n",
    "    ])\n",
    "    ds_name = util.get_ds_name(data)\n",
    "    if ds_name == 'LOD':\n",
    "        continue\n",
    "\n",
    "    exps[(\n",
    "        util.get_network_cond(data),\n",
    "        'grpc_' + util.get_exp_name(data),\n",
    "        ds_name,\n",
    "    )] = kts"
   ],
   "metadata": {
    "collapsed": false,
    "pycharm": {
     "name": "#%%\n"
    }
   }
  },
  {
   "cell_type": "code",
   "execution_count": 6,
   "outputs": [],
   "source": [
    "# Load Kafka results\n",
    "for filename in sorted(os.listdir(dir_kafka)):\n",
    "    with open(dir_kafka + filename) as fp:\n",
    "        data = json.load(fp)\n",
    "\n",
    "    ds_name = util.get_ds_name(data)\n",
    "    if ds_name == 'LOD':\n",
    "        continue\n",
    "    size = size_map_1000[ds_name]\n",
    "\n",
    "    kts = size / np.array([\n",
    "        float(ts['t1cons'] - ts['t0prod']) / 1_000_000\n",
    "        for ts in data['result']['times']\n",
    "    ])\n",
    "\n",
    "    exps[(\n",
    "        util.get_network_cond(data),\n",
    "        'kafka_' + util.get_exp_name(data),\n",
    "        ds_name,\n",
    "    )] = kts"
   ],
   "metadata": {
    "collapsed": false,
    "pycharm": {
     "name": "#%%\n"
    }
   }
  },
  {
   "cell_type": "code",
   "execution_count": 7,
   "outputs": [],
   "source": [
    "dt_exps = pd.DataFrame.from_dict(exps)"
   ],
   "metadata": {
    "collapsed": false,
    "pycharm": {
     "name": "#%%\n"
    }
   }
  },
  {
   "cell_type": "code",
   "execution_count": 8,
   "outputs": [
    {
     "data": {
      "text/plain": "                                        aemet-1     aemet-2  flickr_10m  \\\n100Mbit   grpc_jelly_full            442.972210  297.123082  250.639592   \n          grpc_jelly_full_gzip       361.057682  341.221992  220.637603   \n          grpc_jelly_noprefix        447.502428  277.822399  239.250385   \n          grpc_jelly_noprefix_gzip   427.051905  387.021363  244.544854   \n          kafka_jelly_full           109.636418   49.186511   41.622764   \n          kafka_jelly_full_gzip      396.367299  381.397191  218.877520   \n          kafka_jelly_noprefix       109.280236   46.570035   41.421270   \n          kafka_jelly_noprefix_gzip  475.845098  462.094515  220.542768   \n          kafka_jena-proto            20.389427   15.717823   20.020739   \n          kafka_jena-proto_gzip      319.063406  286.350447  176.363966   \n          kafka_n3                    20.869068   17.347576   20.434417   \n          kafka_n3_gzip              184.602624  140.646671  111.190435   \n50Mbit    grpc_jelly_full            219.829314  140.839927  117.128198   \n          grpc_jelly_full_gzip       344.388441  327.886599  215.868801   \n          grpc_jelly_noprefix        220.035542  140.956309  114.535647   \n          grpc_jelly_noprefix_gzip   427.809299  404.713549  243.672423   \n          kafka_jelly_full            70.159039   31.160057   26.357675   \n          kafka_jelly_full_gzip      391.505746  376.304753  139.563944   \n          kafka_jelly_noprefix        68.170573   29.521428   26.196351   \n          kafka_jelly_noprefix_gzip  419.626235  450.360308  140.711070   \n          kafka_jena-proto            12.861914    9.957658   12.555687   \n          kafka_jena-proto_gzip      226.868728  286.424546  109.739594   \n          kafka_n3                    13.241827   10.932986   12.883068   \n          kafka_n3_gzip              187.104862  144.841061  124.026392   \nunlimited grpc_jelly_full            530.114929  457.052088  397.539634   \n          grpc_jelly_full_gzip       349.095162  328.757582  221.465563   \n          grpc_jelly_noprefix        677.502591  582.756747  465.093943   \n          grpc_jelly_noprefix_gzip   426.507918  393.353099  242.283219   \n          kafka_jelly_full           631.158839  577.982364  500.867257   \n          kafka_jelly_full_gzip      414.442612  383.440342  242.855859   \n          kafka_jelly_noprefix       863.659247  794.167250  515.626822   \n          kafka_jelly_noprefix_gzip  482.435398  492.571208  263.990161   \n          kafka_jena-proto           367.451574  323.428994  249.800372   \n          kafka_jena-proto_gzip      325.014054  292.009959  227.131933   \n          kafka_n3                   187.314223  136.787089  110.658247   \n          kafka_n3_gzip              190.486013  140.469134  112.382973   \n\n                                       identica  migr_reschange         mix  \\\n100Mbit   grpc_jelly_full            185.780502      412.559501  261.881951   \n          grpc_jelly_full_gzip       154.170269      413.178863  219.036507   \n          grpc_jelly_noprefix        176.513330      369.070496  241.933052   \n          grpc_jelly_noprefix_gzip   166.949935      481.624163  242.616476   \n          kafka_jelly_full            35.845826       75.631485   47.036551   \n          kafka_jelly_full_gzip      110.710437      451.972260  173.791101   \n          kafka_jelly_noprefix        34.700007       63.084007   41.372428   \n          kafka_jelly_noprefix_gzip  110.971367      581.756885  174.488852   \n          kafka_jena-proto            20.222977       15.232280   19.952976   \n          kafka_jena-proto_gzip       98.726551      312.193105  167.253971   \n          kafka_n3                    22.588032       16.667893   20.706489   \n          kafka_n3_gzip               66.544144      141.182808   91.440153   \n50Mbit    grpc_jelly_full            100.585022      195.583537  137.317675   \n          grpc_jelly_full_gzip       149.200027      412.589405  222.468945   \n          grpc_jelly_noprefix         94.299021      184.732865  123.059883   \n          grpc_jelly_noprefix_gzip   160.021925      480.513400  242.460932   \n          kafka_jelly_full            23.066848       46.929006   30.019641   \n          kafka_jelly_full_gzip       75.993725      468.639080  118.843137   \n          kafka_jelly_noprefix        22.312736       39.911082   26.441093   \n          kafka_jelly_noprefix_gzip   76.082461      589.006886  118.639333   \n          kafka_jena-proto            12.930958        9.666884   12.621798   \n          kafka_jena-proto_gzip       68.549672      311.116524  114.946815   \n          kafka_n3                    14.354956       10.527866   13.169434   \n          kafka_n3_gzip               61.099442      149.512183   88.137955   \nunlimited grpc_jelly_full            273.997811      519.955252  358.693213   \n          grpc_jelly_full_gzip       165.399578      384.217639  223.307554   \n          grpc_jelly_noprefix        318.558885      681.203331  372.709885   \n          grpc_jelly_noprefix_gzip   182.943125      488.420079  249.451927   \n          kafka_jelly_full           296.062282      608.728507  403.756601   \n          kafka_jelly_full_gzip      193.442944      460.904805  251.941742   \n          kafka_jelly_noprefix       331.840058      888.804319  396.755030   \n          kafka_jelly_noprefix_gzip  212.034093      658.469946  288.846015   \n          kafka_jena-proto           201.297991      327.357498  248.387007   \n          kafka_jena-proto_gzip      157.244556      310.644219  217.011403   \n          kafka_n3                   105.568345      138.953637  105.116909   \n          kafka_n3_gzip              100.359505      143.256380  106.821117   \n\n                                     nevada_10m      petrol  tour_cap_nuts3  \\\n100Mbit   grpc_jelly_full            225.145133  192.913282      408.847014   \n          grpc_jelly_full_gzip       238.755561  186.930270      373.242915   \n          grpc_jelly_noprefix        174.048553  193.097877      361.523067   \n          grpc_jelly_noprefix_gzip   251.491731  193.138018      464.361416   \n          kafka_jelly_full            49.062746   52.549832       64.454984   \n          kafka_jelly_full_gzip      337.219660  174.169054      468.402007   \n          kafka_jelly_noprefix        46.609855   41.790658       62.061167   \n          kafka_jelly_noprefix_gzip  429.415636  178.611447      578.055439   \n          kafka_jena-proto            14.062467   20.011481       15.206921   \n          kafka_jena-proto_gzip      235.344243  160.778533      306.359582   \n          kafka_n3                    14.772150   20.409012       16.639127   \n          kafka_n3_gzip               98.750482   76.388628      145.142237   \n50Mbit    grpc_jelly_full            109.405873  157.032122      200.226651   \n          grpc_jelly_full_gzip       233.200550  184.991532      361.149245   \n          grpc_jelly_noprefix         87.095834  127.278783      182.223287   \n          grpc_jelly_noprefix_gzip   252.927912  190.831087      458.160953   \n          kafka_jelly_full            31.141596   33.284102       40.518830   \n          kafka_jelly_full_gzip      339.962944  189.763601      476.456304   \n          kafka_jelly_noprefix        29.369092   26.507672       39.307774   \n          kafka_jelly_noprefix_gzip  339.256994  179.298828      592.297375   \n          kafka_jena-proto             8.939839   12.551787        9.652311   \n          kafka_jena-proto_gzip      157.181058  152.230170      297.675837   \n          kafka_n3                     9.388487   12.864014       10.510253   \n          kafka_n3_gzip              107.868608   79.747482      151.174525   \nunlimited grpc_jelly_full            345.658661  195.630763      496.535674   \n          grpc_jelly_full_gzip       233.488978  190.205922      372.952518   \n          grpc_jelly_noprefix        412.080559  194.489311      655.220996   \n          grpc_jelly_noprefix_gzip   255.270398  182.787278      472.643254   \n          kafka_jelly_full           466.359054  179.083663      620.927163   \n          kafka_jelly_full_gzip      328.387820  176.442393      487.526922   \n          kafka_jelly_noprefix       538.588418  185.595405      846.486219   \n          kafka_jelly_noprefix_gzip  418.402158  176.112157      628.852429   \n          kafka_jena-proto           245.407712  162.201286      334.594689   \n          kafka_jena-proto_gzip      257.133148  162.877458      311.349587   \n          kafka_n3                    96.232964   76.121476      142.560285   \n          kafka_n3_gzip               99.707086   74.938439      144.490495   \n\n                                      wikipedia  \n100Mbit   grpc_jelly_full            251.246049  \n          grpc_jelly_full_gzip       236.311282  \n          grpc_jelly_noprefix        216.866175  \n          grpc_jelly_noprefix_gzip   255.666853  \n          kafka_jelly_full            41.697711  \n          kafka_jelly_full_gzip      214.019072  \n          kafka_jelly_noprefix        40.573059  \n          kafka_jelly_noprefix_gzip  214.045400  \n          kafka_jena-proto            26.548866  \n          kafka_jena-proto_gzip      210.401598  \n          kafka_n3                    31.204734  \n          kafka_n3_gzip              147.643475  \n50Mbit    grpc_jelly_full            123.278602  \n          grpc_jelly_full_gzip       230.459603  \n          grpc_jelly_noprefix        110.129109  \n          grpc_jelly_noprefix_gzip   256.747240  \n          kafka_jelly_full            26.465217  \n          kafka_jelly_full_gzip      143.228800  \n          kafka_jelly_noprefix        25.631454  \n          kafka_jelly_noprefix_gzip  143.298367  \n          kafka_jena-proto            16.721770  \n          kafka_jena-proto_gzip      141.320664  \n          kafka_n3                    19.453450  \n          kafka_n3_gzip              139.191366  \nunlimited grpc_jelly_full            410.316829  \n          grpc_jelly_full_gzip       232.211176  \n          grpc_jelly_noprefix        465.503407  \n          grpc_jelly_noprefix_gzip   255.392523  \n          kafka_jelly_full           522.385967  \n          kafka_jelly_full_gzip      282.385537  \n          kafka_jelly_noprefix       614.019424  \n          kafka_jelly_noprefix_gzip  291.964704  \n          kafka_jena-proto           363.336366  \n          kafka_jena-proto_gzip      310.485675  \n          kafka_n3                   152.226673  \n          kafka_n3_gzip              152.000085  ",
      "text/html": "<div>\n<style scoped>\n    .dataframe tbody tr th:only-of-type {\n        vertical-align: middle;\n    }\n\n    .dataframe tbody tr th {\n        vertical-align: top;\n    }\n\n    .dataframe thead th {\n        text-align: right;\n    }\n</style>\n<table border=\"1\" class=\"dataframe\">\n  <thead>\n    <tr style=\"text-align: right;\">\n      <th></th>\n      <th></th>\n      <th>aemet-1</th>\n      <th>aemet-2</th>\n      <th>flickr_10m</th>\n      <th>identica</th>\n      <th>migr_reschange</th>\n      <th>mix</th>\n      <th>nevada_10m</th>\n      <th>petrol</th>\n      <th>tour_cap_nuts3</th>\n      <th>wikipedia</th>\n    </tr>\n  </thead>\n  <tbody>\n    <tr>\n      <th rowspan=\"12\" valign=\"top\">100Mbit</th>\n      <th>grpc_jelly_full</th>\n      <td>442.972210</td>\n      <td>297.123082</td>\n      <td>250.639592</td>\n      <td>185.780502</td>\n      <td>412.559501</td>\n      <td>261.881951</td>\n      <td>225.145133</td>\n      <td>192.913282</td>\n      <td>408.847014</td>\n      <td>251.246049</td>\n    </tr>\n    <tr>\n      <th>grpc_jelly_full_gzip</th>\n      <td>361.057682</td>\n      <td>341.221992</td>\n      <td>220.637603</td>\n      <td>154.170269</td>\n      <td>413.178863</td>\n      <td>219.036507</td>\n      <td>238.755561</td>\n      <td>186.930270</td>\n      <td>373.242915</td>\n      <td>236.311282</td>\n    </tr>\n    <tr>\n      <th>grpc_jelly_noprefix</th>\n      <td>447.502428</td>\n      <td>277.822399</td>\n      <td>239.250385</td>\n      <td>176.513330</td>\n      <td>369.070496</td>\n      <td>241.933052</td>\n      <td>174.048553</td>\n      <td>193.097877</td>\n      <td>361.523067</td>\n      <td>216.866175</td>\n    </tr>\n    <tr>\n      <th>grpc_jelly_noprefix_gzip</th>\n      <td>427.051905</td>\n      <td>387.021363</td>\n      <td>244.544854</td>\n      <td>166.949935</td>\n      <td>481.624163</td>\n      <td>242.616476</td>\n      <td>251.491731</td>\n      <td>193.138018</td>\n      <td>464.361416</td>\n      <td>255.666853</td>\n    </tr>\n    <tr>\n      <th>kafka_jelly_full</th>\n      <td>109.636418</td>\n      <td>49.186511</td>\n      <td>41.622764</td>\n      <td>35.845826</td>\n      <td>75.631485</td>\n      <td>47.036551</td>\n      <td>49.062746</td>\n      <td>52.549832</td>\n      <td>64.454984</td>\n      <td>41.697711</td>\n    </tr>\n    <tr>\n      <th>kafka_jelly_full_gzip</th>\n      <td>396.367299</td>\n      <td>381.397191</td>\n      <td>218.877520</td>\n      <td>110.710437</td>\n      <td>451.972260</td>\n      <td>173.791101</td>\n      <td>337.219660</td>\n      <td>174.169054</td>\n      <td>468.402007</td>\n      <td>214.019072</td>\n    </tr>\n    <tr>\n      <th>kafka_jelly_noprefix</th>\n      <td>109.280236</td>\n      <td>46.570035</td>\n      <td>41.421270</td>\n      <td>34.700007</td>\n      <td>63.084007</td>\n      <td>41.372428</td>\n      <td>46.609855</td>\n      <td>41.790658</td>\n      <td>62.061167</td>\n      <td>40.573059</td>\n    </tr>\n    <tr>\n      <th>kafka_jelly_noprefix_gzip</th>\n      <td>475.845098</td>\n      <td>462.094515</td>\n      <td>220.542768</td>\n      <td>110.971367</td>\n      <td>581.756885</td>\n      <td>174.488852</td>\n      <td>429.415636</td>\n      <td>178.611447</td>\n      <td>578.055439</td>\n      <td>214.045400</td>\n    </tr>\n    <tr>\n      <th>kafka_jena-proto</th>\n      <td>20.389427</td>\n      <td>15.717823</td>\n      <td>20.020739</td>\n      <td>20.222977</td>\n      <td>15.232280</td>\n      <td>19.952976</td>\n      <td>14.062467</td>\n      <td>20.011481</td>\n      <td>15.206921</td>\n      <td>26.548866</td>\n    </tr>\n    <tr>\n      <th>kafka_jena-proto_gzip</th>\n      <td>319.063406</td>\n      <td>286.350447</td>\n      <td>176.363966</td>\n      <td>98.726551</td>\n      <td>312.193105</td>\n      <td>167.253971</td>\n      <td>235.344243</td>\n      <td>160.778533</td>\n      <td>306.359582</td>\n      <td>210.401598</td>\n    </tr>\n    <tr>\n      <th>kafka_n3</th>\n      <td>20.869068</td>\n      <td>17.347576</td>\n      <td>20.434417</td>\n      <td>22.588032</td>\n      <td>16.667893</td>\n      <td>20.706489</td>\n      <td>14.772150</td>\n      <td>20.409012</td>\n      <td>16.639127</td>\n      <td>31.204734</td>\n    </tr>\n    <tr>\n      <th>kafka_n3_gzip</th>\n      <td>184.602624</td>\n      <td>140.646671</td>\n      <td>111.190435</td>\n      <td>66.544144</td>\n      <td>141.182808</td>\n      <td>91.440153</td>\n      <td>98.750482</td>\n      <td>76.388628</td>\n      <td>145.142237</td>\n      <td>147.643475</td>\n    </tr>\n    <tr>\n      <th rowspan=\"12\" valign=\"top\">50Mbit</th>\n      <th>grpc_jelly_full</th>\n      <td>219.829314</td>\n      <td>140.839927</td>\n      <td>117.128198</td>\n      <td>100.585022</td>\n      <td>195.583537</td>\n      <td>137.317675</td>\n      <td>109.405873</td>\n      <td>157.032122</td>\n      <td>200.226651</td>\n      <td>123.278602</td>\n    </tr>\n    <tr>\n      <th>grpc_jelly_full_gzip</th>\n      <td>344.388441</td>\n      <td>327.886599</td>\n      <td>215.868801</td>\n      <td>149.200027</td>\n      <td>412.589405</td>\n      <td>222.468945</td>\n      <td>233.200550</td>\n      <td>184.991532</td>\n      <td>361.149245</td>\n      <td>230.459603</td>\n    </tr>\n    <tr>\n      <th>grpc_jelly_noprefix</th>\n      <td>220.035542</td>\n      <td>140.956309</td>\n      <td>114.535647</td>\n      <td>94.299021</td>\n      <td>184.732865</td>\n      <td>123.059883</td>\n      <td>87.095834</td>\n      <td>127.278783</td>\n      <td>182.223287</td>\n      <td>110.129109</td>\n    </tr>\n    <tr>\n      <th>grpc_jelly_noprefix_gzip</th>\n      <td>427.809299</td>\n      <td>404.713549</td>\n      <td>243.672423</td>\n      <td>160.021925</td>\n      <td>480.513400</td>\n      <td>242.460932</td>\n      <td>252.927912</td>\n      <td>190.831087</td>\n      <td>458.160953</td>\n      <td>256.747240</td>\n    </tr>\n    <tr>\n      <th>kafka_jelly_full</th>\n      <td>70.159039</td>\n      <td>31.160057</td>\n      <td>26.357675</td>\n      <td>23.066848</td>\n      <td>46.929006</td>\n      <td>30.019641</td>\n      <td>31.141596</td>\n      <td>33.284102</td>\n      <td>40.518830</td>\n      <td>26.465217</td>\n    </tr>\n    <tr>\n      <th>kafka_jelly_full_gzip</th>\n      <td>391.505746</td>\n      <td>376.304753</td>\n      <td>139.563944</td>\n      <td>75.993725</td>\n      <td>468.639080</td>\n      <td>118.843137</td>\n      <td>339.962944</td>\n      <td>189.763601</td>\n      <td>476.456304</td>\n      <td>143.228800</td>\n    </tr>\n    <tr>\n      <th>kafka_jelly_noprefix</th>\n      <td>68.170573</td>\n      <td>29.521428</td>\n      <td>26.196351</td>\n      <td>22.312736</td>\n      <td>39.911082</td>\n      <td>26.441093</td>\n      <td>29.369092</td>\n      <td>26.507672</td>\n      <td>39.307774</td>\n      <td>25.631454</td>\n    </tr>\n    <tr>\n      <th>kafka_jelly_noprefix_gzip</th>\n      <td>419.626235</td>\n      <td>450.360308</td>\n      <td>140.711070</td>\n      <td>76.082461</td>\n      <td>589.006886</td>\n      <td>118.639333</td>\n      <td>339.256994</td>\n      <td>179.298828</td>\n      <td>592.297375</td>\n      <td>143.298367</td>\n    </tr>\n    <tr>\n      <th>kafka_jena-proto</th>\n      <td>12.861914</td>\n      <td>9.957658</td>\n      <td>12.555687</td>\n      <td>12.930958</td>\n      <td>9.666884</td>\n      <td>12.621798</td>\n      <td>8.939839</td>\n      <td>12.551787</td>\n      <td>9.652311</td>\n      <td>16.721770</td>\n    </tr>\n    <tr>\n      <th>kafka_jena-proto_gzip</th>\n      <td>226.868728</td>\n      <td>286.424546</td>\n      <td>109.739594</td>\n      <td>68.549672</td>\n      <td>311.116524</td>\n      <td>114.946815</td>\n      <td>157.181058</td>\n      <td>152.230170</td>\n      <td>297.675837</td>\n      <td>141.320664</td>\n    </tr>\n    <tr>\n      <th>kafka_n3</th>\n      <td>13.241827</td>\n      <td>10.932986</td>\n      <td>12.883068</td>\n      <td>14.354956</td>\n      <td>10.527866</td>\n      <td>13.169434</td>\n      <td>9.388487</td>\n      <td>12.864014</td>\n      <td>10.510253</td>\n      <td>19.453450</td>\n    </tr>\n    <tr>\n      <th>kafka_n3_gzip</th>\n      <td>187.104862</td>\n      <td>144.841061</td>\n      <td>124.026392</td>\n      <td>61.099442</td>\n      <td>149.512183</td>\n      <td>88.137955</td>\n      <td>107.868608</td>\n      <td>79.747482</td>\n      <td>151.174525</td>\n      <td>139.191366</td>\n    </tr>\n    <tr>\n      <th rowspan=\"12\" valign=\"top\">unlimited</th>\n      <th>grpc_jelly_full</th>\n      <td>530.114929</td>\n      <td>457.052088</td>\n      <td>397.539634</td>\n      <td>273.997811</td>\n      <td>519.955252</td>\n      <td>358.693213</td>\n      <td>345.658661</td>\n      <td>195.630763</td>\n      <td>496.535674</td>\n      <td>410.316829</td>\n    </tr>\n    <tr>\n      <th>grpc_jelly_full_gzip</th>\n      <td>349.095162</td>\n      <td>328.757582</td>\n      <td>221.465563</td>\n      <td>165.399578</td>\n      <td>384.217639</td>\n      <td>223.307554</td>\n      <td>233.488978</td>\n      <td>190.205922</td>\n      <td>372.952518</td>\n      <td>232.211176</td>\n    </tr>\n    <tr>\n      <th>grpc_jelly_noprefix</th>\n      <td>677.502591</td>\n      <td>582.756747</td>\n      <td>465.093943</td>\n      <td>318.558885</td>\n      <td>681.203331</td>\n      <td>372.709885</td>\n      <td>412.080559</td>\n      <td>194.489311</td>\n      <td>655.220996</td>\n      <td>465.503407</td>\n    </tr>\n    <tr>\n      <th>grpc_jelly_noprefix_gzip</th>\n      <td>426.507918</td>\n      <td>393.353099</td>\n      <td>242.283219</td>\n      <td>182.943125</td>\n      <td>488.420079</td>\n      <td>249.451927</td>\n      <td>255.270398</td>\n      <td>182.787278</td>\n      <td>472.643254</td>\n      <td>255.392523</td>\n    </tr>\n    <tr>\n      <th>kafka_jelly_full</th>\n      <td>631.158839</td>\n      <td>577.982364</td>\n      <td>500.867257</td>\n      <td>296.062282</td>\n      <td>608.728507</td>\n      <td>403.756601</td>\n      <td>466.359054</td>\n      <td>179.083663</td>\n      <td>620.927163</td>\n      <td>522.385967</td>\n    </tr>\n    <tr>\n      <th>kafka_jelly_full_gzip</th>\n      <td>414.442612</td>\n      <td>383.440342</td>\n      <td>242.855859</td>\n      <td>193.442944</td>\n      <td>460.904805</td>\n      <td>251.941742</td>\n      <td>328.387820</td>\n      <td>176.442393</td>\n      <td>487.526922</td>\n      <td>282.385537</td>\n    </tr>\n    <tr>\n      <th>kafka_jelly_noprefix</th>\n      <td>863.659247</td>\n      <td>794.167250</td>\n      <td>515.626822</td>\n      <td>331.840058</td>\n      <td>888.804319</td>\n      <td>396.755030</td>\n      <td>538.588418</td>\n      <td>185.595405</td>\n      <td>846.486219</td>\n      <td>614.019424</td>\n    </tr>\n    <tr>\n      <th>kafka_jelly_noprefix_gzip</th>\n      <td>482.435398</td>\n      <td>492.571208</td>\n      <td>263.990161</td>\n      <td>212.034093</td>\n      <td>658.469946</td>\n      <td>288.846015</td>\n      <td>418.402158</td>\n      <td>176.112157</td>\n      <td>628.852429</td>\n      <td>291.964704</td>\n    </tr>\n    <tr>\n      <th>kafka_jena-proto</th>\n      <td>367.451574</td>\n      <td>323.428994</td>\n      <td>249.800372</td>\n      <td>201.297991</td>\n      <td>327.357498</td>\n      <td>248.387007</td>\n      <td>245.407712</td>\n      <td>162.201286</td>\n      <td>334.594689</td>\n      <td>363.336366</td>\n    </tr>\n    <tr>\n      <th>kafka_jena-proto_gzip</th>\n      <td>325.014054</td>\n      <td>292.009959</td>\n      <td>227.131933</td>\n      <td>157.244556</td>\n      <td>310.644219</td>\n      <td>217.011403</td>\n      <td>257.133148</td>\n      <td>162.877458</td>\n      <td>311.349587</td>\n      <td>310.485675</td>\n    </tr>\n    <tr>\n      <th>kafka_n3</th>\n      <td>187.314223</td>\n      <td>136.787089</td>\n      <td>110.658247</td>\n      <td>105.568345</td>\n      <td>138.953637</td>\n      <td>105.116909</td>\n      <td>96.232964</td>\n      <td>76.121476</td>\n      <td>142.560285</td>\n      <td>152.226673</td>\n    </tr>\n    <tr>\n      <th>kafka_n3_gzip</th>\n      <td>190.486013</td>\n      <td>140.469134</td>\n      <td>112.382973</td>\n      <td>100.359505</td>\n      <td>143.256380</td>\n      <td>106.821117</td>\n      <td>99.707086</td>\n      <td>74.938439</td>\n      <td>144.490495</td>\n      <td>152.000085</td>\n    </tr>\n  </tbody>\n</table>\n</div>"
     },
     "execution_count": 8,
     "metadata": {},
     "output_type": "execute_result"
    }
   ],
   "source": [
    "means = dt_exps.iloc[5:].apply(np.mean, axis=0)\n",
    "means_dt = means.reset_index().set_axis(['network', 'algo', 'dataset', 'mean_kts'], axis=1, inplace=False)\n",
    "means_unst = means.unstack()\n",
    "means_unst"
   ],
   "metadata": {
    "collapsed": false,
    "pycharm": {
     "name": "#%%\n"
    }
   }
  },
  {
   "cell_type": "code",
   "execution_count": 9,
   "outputs": [],
   "source": [
    "def summarize_by_network(network: str) -> (pd.DataFrame, pd.DataFrame):\n",
    "    s_full = means_dt[means_dt['network'] == network][['algo', 'dataset', 'mean_kts']]\\\n",
    "        .pivot(index='algo', columns='dataset', values='mean_kts')\n",
    "    return s_full, s_full.apply(np.mean, axis=1).apply(lambda x: np.round(x, 2))\n"
   ],
   "metadata": {
    "collapsed": false,
    "pycharm": {
     "name": "#%%\n"
    }
   }
  },
  {
   "cell_type": "code",
   "execution_count": 10,
   "outputs": [
    {
     "data": {
      "text/plain": "algo\ngrpc_jelly_full              398.55\ngrpc_jelly_full_gzip         270.11\ngrpc_jelly_noprefix          482.51\ngrpc_jelly_noprefix_gzip     314.91\nkafka_jelly_full             480.73\nkafka_jelly_full_gzip        322.18\nkafka_jelly_noprefix         597.55\nkafka_jelly_noprefix_gzip    391.37\nkafka_jena-proto             282.33\nkafka_jena-proto_gzip        257.09\nkafka_n3                     125.15\nkafka_n3_gzip                126.49\ndtype: float64"
     },
     "execution_count": 10,
     "metadata": {},
     "output_type": "execute_result"
    }
   ],
   "source": [
    "dt_unl_full, dt_unl = summarize_by_network('unlimited')\n",
    "dt_unl"
   ],
   "metadata": {
    "collapsed": false,
    "pycharm": {
     "name": "#%%\n"
    }
   }
  },
  {
   "cell_type": "code",
   "execution_count": 11,
   "outputs": [
    {
     "data": {
      "text/plain": "dataset                       aemet-1     aemet-2  flickr_10m    identica  \\\nalgo                                                                        \ngrpc_jelly_full            530.114929  457.052088  397.539634  273.997811   \ngrpc_jelly_full_gzip       349.095162  328.757582  221.465563  165.399578   \ngrpc_jelly_noprefix        677.502591  582.756747  465.093943  318.558885   \ngrpc_jelly_noprefix_gzip   426.507918  393.353099  242.283219  182.943125   \nkafka_jelly_full           631.158839  577.982364  500.867257  296.062282   \nkafka_jelly_full_gzip      414.442612  383.440342  242.855859  193.442944   \nkafka_jelly_noprefix       863.659247  794.167250  515.626822  331.840058   \nkafka_jelly_noprefix_gzip  482.435398  492.571208  263.990161  212.034093   \nkafka_jena-proto           367.451574  323.428994  249.800372  201.297991   \nkafka_jena-proto_gzip      325.014054  292.009959  227.131933  157.244556   \nkafka_n3                   187.314223  136.787089  110.658247  105.568345   \nkafka_n3_gzip              190.486013  140.469134  112.382973  100.359505   \n\ndataset                    migr_reschange         mix  nevada_10m      petrol  \\\nalgo                                                                            \ngrpc_jelly_full                519.955252  358.693213  345.658661  195.630763   \ngrpc_jelly_full_gzip           384.217639  223.307554  233.488978  190.205922   \ngrpc_jelly_noprefix            681.203331  372.709885  412.080559  194.489311   \ngrpc_jelly_noprefix_gzip       488.420079  249.451927  255.270398  182.787278   \nkafka_jelly_full               608.728507  403.756601  466.359054  179.083663   \nkafka_jelly_full_gzip          460.904805  251.941742  328.387820  176.442393   \nkafka_jelly_noprefix           888.804319  396.755030  538.588418  185.595405   \nkafka_jelly_noprefix_gzip      658.469946  288.846015  418.402158  176.112157   \nkafka_jena-proto               327.357498  248.387007  245.407712  162.201286   \nkafka_jena-proto_gzip          310.644219  217.011403  257.133148  162.877458   \nkafka_n3                       138.953637  105.116909   96.232964   76.121476   \nkafka_n3_gzip                  143.256380  106.821117   99.707086   74.938439   \n\ndataset                    tour_cap_nuts3   wikipedia  \nalgo                                                   \ngrpc_jelly_full                496.535674  410.316829  \ngrpc_jelly_full_gzip           372.952518  232.211176  \ngrpc_jelly_noprefix            655.220996  465.503407  \ngrpc_jelly_noprefix_gzip       472.643254  255.392523  \nkafka_jelly_full               620.927163  522.385967  \nkafka_jelly_full_gzip          487.526922  282.385537  \nkafka_jelly_noprefix           846.486219  614.019424  \nkafka_jelly_noprefix_gzip      628.852429  291.964704  \nkafka_jena-proto               334.594689  363.336366  \nkafka_jena-proto_gzip          311.349587  310.485675  \nkafka_n3                       142.560285  152.226673  \nkafka_n3_gzip                  144.490495  152.000085  ",
      "text/html": "<div>\n<style scoped>\n    .dataframe tbody tr th:only-of-type {\n        vertical-align: middle;\n    }\n\n    .dataframe tbody tr th {\n        vertical-align: top;\n    }\n\n    .dataframe thead th {\n        text-align: right;\n    }\n</style>\n<table border=\"1\" class=\"dataframe\">\n  <thead>\n    <tr style=\"text-align: right;\">\n      <th>dataset</th>\n      <th>aemet-1</th>\n      <th>aemet-2</th>\n      <th>flickr_10m</th>\n      <th>identica</th>\n      <th>migr_reschange</th>\n      <th>mix</th>\n      <th>nevada_10m</th>\n      <th>petrol</th>\n      <th>tour_cap_nuts3</th>\n      <th>wikipedia</th>\n    </tr>\n    <tr>\n      <th>algo</th>\n      <th></th>\n      <th></th>\n      <th></th>\n      <th></th>\n      <th></th>\n      <th></th>\n      <th></th>\n      <th></th>\n      <th></th>\n      <th></th>\n    </tr>\n  </thead>\n  <tbody>\n    <tr>\n      <th>grpc_jelly_full</th>\n      <td>530.114929</td>\n      <td>457.052088</td>\n      <td>397.539634</td>\n      <td>273.997811</td>\n      <td>519.955252</td>\n      <td>358.693213</td>\n      <td>345.658661</td>\n      <td>195.630763</td>\n      <td>496.535674</td>\n      <td>410.316829</td>\n    </tr>\n    <tr>\n      <th>grpc_jelly_full_gzip</th>\n      <td>349.095162</td>\n      <td>328.757582</td>\n      <td>221.465563</td>\n      <td>165.399578</td>\n      <td>384.217639</td>\n      <td>223.307554</td>\n      <td>233.488978</td>\n      <td>190.205922</td>\n      <td>372.952518</td>\n      <td>232.211176</td>\n    </tr>\n    <tr>\n      <th>grpc_jelly_noprefix</th>\n      <td>677.502591</td>\n      <td>582.756747</td>\n      <td>465.093943</td>\n      <td>318.558885</td>\n      <td>681.203331</td>\n      <td>372.709885</td>\n      <td>412.080559</td>\n      <td>194.489311</td>\n      <td>655.220996</td>\n      <td>465.503407</td>\n    </tr>\n    <tr>\n      <th>grpc_jelly_noprefix_gzip</th>\n      <td>426.507918</td>\n      <td>393.353099</td>\n      <td>242.283219</td>\n      <td>182.943125</td>\n      <td>488.420079</td>\n      <td>249.451927</td>\n      <td>255.270398</td>\n      <td>182.787278</td>\n      <td>472.643254</td>\n      <td>255.392523</td>\n    </tr>\n    <tr>\n      <th>kafka_jelly_full</th>\n      <td>631.158839</td>\n      <td>577.982364</td>\n      <td>500.867257</td>\n      <td>296.062282</td>\n      <td>608.728507</td>\n      <td>403.756601</td>\n      <td>466.359054</td>\n      <td>179.083663</td>\n      <td>620.927163</td>\n      <td>522.385967</td>\n    </tr>\n    <tr>\n      <th>kafka_jelly_full_gzip</th>\n      <td>414.442612</td>\n      <td>383.440342</td>\n      <td>242.855859</td>\n      <td>193.442944</td>\n      <td>460.904805</td>\n      <td>251.941742</td>\n      <td>328.387820</td>\n      <td>176.442393</td>\n      <td>487.526922</td>\n      <td>282.385537</td>\n    </tr>\n    <tr>\n      <th>kafka_jelly_noprefix</th>\n      <td>863.659247</td>\n      <td>794.167250</td>\n      <td>515.626822</td>\n      <td>331.840058</td>\n      <td>888.804319</td>\n      <td>396.755030</td>\n      <td>538.588418</td>\n      <td>185.595405</td>\n      <td>846.486219</td>\n      <td>614.019424</td>\n    </tr>\n    <tr>\n      <th>kafka_jelly_noprefix_gzip</th>\n      <td>482.435398</td>\n      <td>492.571208</td>\n      <td>263.990161</td>\n      <td>212.034093</td>\n      <td>658.469946</td>\n      <td>288.846015</td>\n      <td>418.402158</td>\n      <td>176.112157</td>\n      <td>628.852429</td>\n      <td>291.964704</td>\n    </tr>\n    <tr>\n      <th>kafka_jena-proto</th>\n      <td>367.451574</td>\n      <td>323.428994</td>\n      <td>249.800372</td>\n      <td>201.297991</td>\n      <td>327.357498</td>\n      <td>248.387007</td>\n      <td>245.407712</td>\n      <td>162.201286</td>\n      <td>334.594689</td>\n      <td>363.336366</td>\n    </tr>\n    <tr>\n      <th>kafka_jena-proto_gzip</th>\n      <td>325.014054</td>\n      <td>292.009959</td>\n      <td>227.131933</td>\n      <td>157.244556</td>\n      <td>310.644219</td>\n      <td>217.011403</td>\n      <td>257.133148</td>\n      <td>162.877458</td>\n      <td>311.349587</td>\n      <td>310.485675</td>\n    </tr>\n    <tr>\n      <th>kafka_n3</th>\n      <td>187.314223</td>\n      <td>136.787089</td>\n      <td>110.658247</td>\n      <td>105.568345</td>\n      <td>138.953637</td>\n      <td>105.116909</td>\n      <td>96.232964</td>\n      <td>76.121476</td>\n      <td>142.560285</td>\n      <td>152.226673</td>\n    </tr>\n    <tr>\n      <th>kafka_n3_gzip</th>\n      <td>190.486013</td>\n      <td>140.469134</td>\n      <td>112.382973</td>\n      <td>100.359505</td>\n      <td>143.256380</td>\n      <td>106.821117</td>\n      <td>99.707086</td>\n      <td>74.938439</td>\n      <td>144.490495</td>\n      <td>152.000085</td>\n    </tr>\n  </tbody>\n</table>\n</div>"
     },
     "execution_count": 11,
     "metadata": {},
     "output_type": "execute_result"
    }
   ],
   "source": [
    "dt_unl_full"
   ],
   "metadata": {
    "collapsed": false,
    "pycharm": {
     "name": "#%%\n"
    }
   }
  },
  {
   "cell_type": "markdown",
   "source": [],
   "metadata": {
    "collapsed": false,
    "pycharm": {
     "name": "#%% md\n"
    }
   }
  },
  {
   "cell_type": "code",
   "execution_count": 12,
   "outputs": [
    {
     "data": {
      "text/plain": "algo\ngrpc_jelly_full              292.91\ngrpc_jelly_full_gzip         274.45\ngrpc_jelly_noprefix          269.76\ngrpc_jelly_noprefix_gzip     311.45\nkafka_jelly_full              56.67\nkafka_jelly_full_gzip        292.69\nkafka_jelly_noprefix          52.75\nkafka_jelly_noprefix_gzip    342.58\nkafka_jena-proto              18.74\nkafka_jena-proto_gzip        227.28\nkafka_n3                      20.16\nkafka_n3_gzip                120.35\ndtype: float64"
     },
     "execution_count": 12,
     "metadata": {},
     "output_type": "execute_result"
    }
   ],
   "source": [
    "dt_100_full, dt_100 = summarize_by_network('100Mbit')\n",
    "dt_100"
   ],
   "metadata": {
    "collapsed": false,
    "pycharm": {
     "name": "#%%\n"
    }
   }
  },
  {
   "cell_type": "code",
   "execution_count": 13,
   "outputs": [
    {
     "data": {
      "text/plain": "dataset                       aemet-1     aemet-2  flickr_10m    identica  \\\nalgo                                                                        \ngrpc_jelly_full            442.972210  297.123082  250.639592  185.780502   \ngrpc_jelly_full_gzip       361.057682  341.221992  220.637603  154.170269   \ngrpc_jelly_noprefix        447.502428  277.822399  239.250385  176.513330   \ngrpc_jelly_noprefix_gzip   427.051905  387.021363  244.544854  166.949935   \nkafka_jelly_full           109.636418   49.186511   41.622764   35.845826   \nkafka_jelly_full_gzip      396.367299  381.397191  218.877520  110.710437   \nkafka_jelly_noprefix       109.280236   46.570035   41.421270   34.700007   \nkafka_jelly_noprefix_gzip  475.845098  462.094515  220.542768  110.971367   \nkafka_jena-proto            20.389427   15.717823   20.020739   20.222977   \nkafka_jena-proto_gzip      319.063406  286.350447  176.363966   98.726551   \nkafka_n3                    20.869068   17.347576   20.434417   22.588032   \nkafka_n3_gzip              184.602624  140.646671  111.190435   66.544144   \n\ndataset                    migr_reschange         mix  nevada_10m      petrol  \\\nalgo                                                                            \ngrpc_jelly_full                412.559501  261.881951  225.145133  192.913282   \ngrpc_jelly_full_gzip           413.178863  219.036507  238.755561  186.930270   \ngrpc_jelly_noprefix            369.070496  241.933052  174.048553  193.097877   \ngrpc_jelly_noprefix_gzip       481.624163  242.616476  251.491731  193.138018   \nkafka_jelly_full                75.631485   47.036551   49.062746   52.549832   \nkafka_jelly_full_gzip          451.972260  173.791101  337.219660  174.169054   \nkafka_jelly_noprefix            63.084007   41.372428   46.609855   41.790658   \nkafka_jelly_noprefix_gzip      581.756885  174.488852  429.415636  178.611447   \nkafka_jena-proto                15.232280   19.952976   14.062467   20.011481   \nkafka_jena-proto_gzip          312.193105  167.253971  235.344243  160.778533   \nkafka_n3                        16.667893   20.706489   14.772150   20.409012   \nkafka_n3_gzip                  141.182808   91.440153   98.750482   76.388628   \n\ndataset                    tour_cap_nuts3   wikipedia  \nalgo                                                   \ngrpc_jelly_full                408.847014  251.246049  \ngrpc_jelly_full_gzip           373.242915  236.311282  \ngrpc_jelly_noprefix            361.523067  216.866175  \ngrpc_jelly_noprefix_gzip       464.361416  255.666853  \nkafka_jelly_full                64.454984   41.697711  \nkafka_jelly_full_gzip          468.402007  214.019072  \nkafka_jelly_noprefix            62.061167   40.573059  \nkafka_jelly_noprefix_gzip      578.055439  214.045400  \nkafka_jena-proto                15.206921   26.548866  \nkafka_jena-proto_gzip          306.359582  210.401598  \nkafka_n3                        16.639127   31.204734  \nkafka_n3_gzip                  145.142237  147.643475  ",
      "text/html": "<div>\n<style scoped>\n    .dataframe tbody tr th:only-of-type {\n        vertical-align: middle;\n    }\n\n    .dataframe tbody tr th {\n        vertical-align: top;\n    }\n\n    .dataframe thead th {\n        text-align: right;\n    }\n</style>\n<table border=\"1\" class=\"dataframe\">\n  <thead>\n    <tr style=\"text-align: right;\">\n      <th>dataset</th>\n      <th>aemet-1</th>\n      <th>aemet-2</th>\n      <th>flickr_10m</th>\n      <th>identica</th>\n      <th>migr_reschange</th>\n      <th>mix</th>\n      <th>nevada_10m</th>\n      <th>petrol</th>\n      <th>tour_cap_nuts3</th>\n      <th>wikipedia</th>\n    </tr>\n    <tr>\n      <th>algo</th>\n      <th></th>\n      <th></th>\n      <th></th>\n      <th></th>\n      <th></th>\n      <th></th>\n      <th></th>\n      <th></th>\n      <th></th>\n      <th></th>\n    </tr>\n  </thead>\n  <tbody>\n    <tr>\n      <th>grpc_jelly_full</th>\n      <td>442.972210</td>\n      <td>297.123082</td>\n      <td>250.639592</td>\n      <td>185.780502</td>\n      <td>412.559501</td>\n      <td>261.881951</td>\n      <td>225.145133</td>\n      <td>192.913282</td>\n      <td>408.847014</td>\n      <td>251.246049</td>\n    </tr>\n    <tr>\n      <th>grpc_jelly_full_gzip</th>\n      <td>361.057682</td>\n      <td>341.221992</td>\n      <td>220.637603</td>\n      <td>154.170269</td>\n      <td>413.178863</td>\n      <td>219.036507</td>\n      <td>238.755561</td>\n      <td>186.930270</td>\n      <td>373.242915</td>\n      <td>236.311282</td>\n    </tr>\n    <tr>\n      <th>grpc_jelly_noprefix</th>\n      <td>447.502428</td>\n      <td>277.822399</td>\n      <td>239.250385</td>\n      <td>176.513330</td>\n      <td>369.070496</td>\n      <td>241.933052</td>\n      <td>174.048553</td>\n      <td>193.097877</td>\n      <td>361.523067</td>\n      <td>216.866175</td>\n    </tr>\n    <tr>\n      <th>grpc_jelly_noprefix_gzip</th>\n      <td>427.051905</td>\n      <td>387.021363</td>\n      <td>244.544854</td>\n      <td>166.949935</td>\n      <td>481.624163</td>\n      <td>242.616476</td>\n      <td>251.491731</td>\n      <td>193.138018</td>\n      <td>464.361416</td>\n      <td>255.666853</td>\n    </tr>\n    <tr>\n      <th>kafka_jelly_full</th>\n      <td>109.636418</td>\n      <td>49.186511</td>\n      <td>41.622764</td>\n      <td>35.845826</td>\n      <td>75.631485</td>\n      <td>47.036551</td>\n      <td>49.062746</td>\n      <td>52.549832</td>\n      <td>64.454984</td>\n      <td>41.697711</td>\n    </tr>\n    <tr>\n      <th>kafka_jelly_full_gzip</th>\n      <td>396.367299</td>\n      <td>381.397191</td>\n      <td>218.877520</td>\n      <td>110.710437</td>\n      <td>451.972260</td>\n      <td>173.791101</td>\n      <td>337.219660</td>\n      <td>174.169054</td>\n      <td>468.402007</td>\n      <td>214.019072</td>\n    </tr>\n    <tr>\n      <th>kafka_jelly_noprefix</th>\n      <td>109.280236</td>\n      <td>46.570035</td>\n      <td>41.421270</td>\n      <td>34.700007</td>\n      <td>63.084007</td>\n      <td>41.372428</td>\n      <td>46.609855</td>\n      <td>41.790658</td>\n      <td>62.061167</td>\n      <td>40.573059</td>\n    </tr>\n    <tr>\n      <th>kafka_jelly_noprefix_gzip</th>\n      <td>475.845098</td>\n      <td>462.094515</td>\n      <td>220.542768</td>\n      <td>110.971367</td>\n      <td>581.756885</td>\n      <td>174.488852</td>\n      <td>429.415636</td>\n      <td>178.611447</td>\n      <td>578.055439</td>\n      <td>214.045400</td>\n    </tr>\n    <tr>\n      <th>kafka_jena-proto</th>\n      <td>20.389427</td>\n      <td>15.717823</td>\n      <td>20.020739</td>\n      <td>20.222977</td>\n      <td>15.232280</td>\n      <td>19.952976</td>\n      <td>14.062467</td>\n      <td>20.011481</td>\n      <td>15.206921</td>\n      <td>26.548866</td>\n    </tr>\n    <tr>\n      <th>kafka_jena-proto_gzip</th>\n      <td>319.063406</td>\n      <td>286.350447</td>\n      <td>176.363966</td>\n      <td>98.726551</td>\n      <td>312.193105</td>\n      <td>167.253971</td>\n      <td>235.344243</td>\n      <td>160.778533</td>\n      <td>306.359582</td>\n      <td>210.401598</td>\n    </tr>\n    <tr>\n      <th>kafka_n3</th>\n      <td>20.869068</td>\n      <td>17.347576</td>\n      <td>20.434417</td>\n      <td>22.588032</td>\n      <td>16.667893</td>\n      <td>20.706489</td>\n      <td>14.772150</td>\n      <td>20.409012</td>\n      <td>16.639127</td>\n      <td>31.204734</td>\n    </tr>\n    <tr>\n      <th>kafka_n3_gzip</th>\n      <td>184.602624</td>\n      <td>140.646671</td>\n      <td>111.190435</td>\n      <td>66.544144</td>\n      <td>141.182808</td>\n      <td>91.440153</td>\n      <td>98.750482</td>\n      <td>76.388628</td>\n      <td>145.142237</td>\n      <td>147.643475</td>\n    </tr>\n  </tbody>\n</table>\n</div>"
     },
     "execution_count": 13,
     "metadata": {},
     "output_type": "execute_result"
    }
   ],
   "source": [
    "dt_100_full"
   ],
   "metadata": {
    "collapsed": false,
    "pycharm": {
     "name": "#%%\n"
    }
   }
  },
  {
   "cell_type": "code",
   "execution_count": 14,
   "outputs": [
    {
     "data": {
      "text/plain": "algo\ngrpc_jelly_full              150.12\ngrpc_jelly_full_gzip         268.22\ngrpc_jelly_noprefix          138.43\ngrpc_jelly_noprefix_gzip     311.79\nkafka_jelly_full              35.91\nkafka_jelly_full_gzip        272.03\nkafka_jelly_noprefix          33.34\nkafka_jelly_noprefix_gzip    304.86\nkafka_jena-proto              11.85\nkafka_jena-proto_gzip        186.61\nkafka_n3                      12.73\nkafka_n3_gzip                123.27\ndtype: float64"
     },
     "execution_count": 14,
     "metadata": {},
     "output_type": "execute_result"
    }
   ],
   "source": [
    "dt_50_full, dt_50 = summarize_by_network('50Mbit')\n",
    "dt_50"
   ],
   "metadata": {
    "collapsed": false,
    "pycharm": {
     "name": "#%%\n"
    }
   }
  },
  {
   "cell_type": "code",
   "execution_count": 15,
   "outputs": [
    {
     "data": {
      "text/plain": "dataset                       aemet-1     aemet-2  flickr_10m    identica  \\\nalgo                                                                        \ngrpc_jelly_full            219.829314  140.839927  117.128198  100.585022   \ngrpc_jelly_full_gzip       344.388441  327.886599  215.868801  149.200027   \ngrpc_jelly_noprefix        220.035542  140.956309  114.535647   94.299021   \ngrpc_jelly_noprefix_gzip   427.809299  404.713549  243.672423  160.021925   \nkafka_jelly_full            70.159039   31.160057   26.357675   23.066848   \nkafka_jelly_full_gzip      391.505746  376.304753  139.563944   75.993725   \nkafka_jelly_noprefix        68.170573   29.521428   26.196351   22.312736   \nkafka_jelly_noprefix_gzip  419.626235  450.360308  140.711070   76.082461   \nkafka_jena-proto            12.861914    9.957658   12.555687   12.930958   \nkafka_jena-proto_gzip      226.868728  286.424546  109.739594   68.549672   \nkafka_n3                    13.241827   10.932986   12.883068   14.354956   \nkafka_n3_gzip              187.104862  144.841061  124.026392   61.099442   \n\ndataset                    migr_reschange         mix  nevada_10m      petrol  \\\nalgo                                                                            \ngrpc_jelly_full                195.583537  137.317675  109.405873  157.032122   \ngrpc_jelly_full_gzip           412.589405  222.468945  233.200550  184.991532   \ngrpc_jelly_noprefix            184.732865  123.059883   87.095834  127.278783   \ngrpc_jelly_noprefix_gzip       480.513400  242.460932  252.927912  190.831087   \nkafka_jelly_full                46.929006   30.019641   31.141596   33.284102   \nkafka_jelly_full_gzip          468.639080  118.843137  339.962944  189.763601   \nkafka_jelly_noprefix            39.911082   26.441093   29.369092   26.507672   \nkafka_jelly_noprefix_gzip      589.006886  118.639333  339.256994  179.298828   \nkafka_jena-proto                 9.666884   12.621798    8.939839   12.551787   \nkafka_jena-proto_gzip          311.116524  114.946815  157.181058  152.230170   \nkafka_n3                        10.527866   13.169434    9.388487   12.864014   \nkafka_n3_gzip                  149.512183   88.137955  107.868608   79.747482   \n\ndataset                    tour_cap_nuts3   wikipedia  \nalgo                                                   \ngrpc_jelly_full                200.226651  123.278602  \ngrpc_jelly_full_gzip           361.149245  230.459603  \ngrpc_jelly_noprefix            182.223287  110.129109  \ngrpc_jelly_noprefix_gzip       458.160953  256.747240  \nkafka_jelly_full                40.518830   26.465217  \nkafka_jelly_full_gzip          476.456304  143.228800  \nkafka_jelly_noprefix            39.307774   25.631454  \nkafka_jelly_noprefix_gzip      592.297375  143.298367  \nkafka_jena-proto                 9.652311   16.721770  \nkafka_jena-proto_gzip          297.675837  141.320664  \nkafka_n3                        10.510253   19.453450  \nkafka_n3_gzip                  151.174525  139.191366  ",
      "text/html": "<div>\n<style scoped>\n    .dataframe tbody tr th:only-of-type {\n        vertical-align: middle;\n    }\n\n    .dataframe tbody tr th {\n        vertical-align: top;\n    }\n\n    .dataframe thead th {\n        text-align: right;\n    }\n</style>\n<table border=\"1\" class=\"dataframe\">\n  <thead>\n    <tr style=\"text-align: right;\">\n      <th>dataset</th>\n      <th>aemet-1</th>\n      <th>aemet-2</th>\n      <th>flickr_10m</th>\n      <th>identica</th>\n      <th>migr_reschange</th>\n      <th>mix</th>\n      <th>nevada_10m</th>\n      <th>petrol</th>\n      <th>tour_cap_nuts3</th>\n      <th>wikipedia</th>\n    </tr>\n    <tr>\n      <th>algo</th>\n      <th></th>\n      <th></th>\n      <th></th>\n      <th></th>\n      <th></th>\n      <th></th>\n      <th></th>\n      <th></th>\n      <th></th>\n      <th></th>\n    </tr>\n  </thead>\n  <tbody>\n    <tr>\n      <th>grpc_jelly_full</th>\n      <td>219.829314</td>\n      <td>140.839927</td>\n      <td>117.128198</td>\n      <td>100.585022</td>\n      <td>195.583537</td>\n      <td>137.317675</td>\n      <td>109.405873</td>\n      <td>157.032122</td>\n      <td>200.226651</td>\n      <td>123.278602</td>\n    </tr>\n    <tr>\n      <th>grpc_jelly_full_gzip</th>\n      <td>344.388441</td>\n      <td>327.886599</td>\n      <td>215.868801</td>\n      <td>149.200027</td>\n      <td>412.589405</td>\n      <td>222.468945</td>\n      <td>233.200550</td>\n      <td>184.991532</td>\n      <td>361.149245</td>\n      <td>230.459603</td>\n    </tr>\n    <tr>\n      <th>grpc_jelly_noprefix</th>\n      <td>220.035542</td>\n      <td>140.956309</td>\n      <td>114.535647</td>\n      <td>94.299021</td>\n      <td>184.732865</td>\n      <td>123.059883</td>\n      <td>87.095834</td>\n      <td>127.278783</td>\n      <td>182.223287</td>\n      <td>110.129109</td>\n    </tr>\n    <tr>\n      <th>grpc_jelly_noprefix_gzip</th>\n      <td>427.809299</td>\n      <td>404.713549</td>\n      <td>243.672423</td>\n      <td>160.021925</td>\n      <td>480.513400</td>\n      <td>242.460932</td>\n      <td>252.927912</td>\n      <td>190.831087</td>\n      <td>458.160953</td>\n      <td>256.747240</td>\n    </tr>\n    <tr>\n      <th>kafka_jelly_full</th>\n      <td>70.159039</td>\n      <td>31.160057</td>\n      <td>26.357675</td>\n      <td>23.066848</td>\n      <td>46.929006</td>\n      <td>30.019641</td>\n      <td>31.141596</td>\n      <td>33.284102</td>\n      <td>40.518830</td>\n      <td>26.465217</td>\n    </tr>\n    <tr>\n      <th>kafka_jelly_full_gzip</th>\n      <td>391.505746</td>\n      <td>376.304753</td>\n      <td>139.563944</td>\n      <td>75.993725</td>\n      <td>468.639080</td>\n      <td>118.843137</td>\n      <td>339.962944</td>\n      <td>189.763601</td>\n      <td>476.456304</td>\n      <td>143.228800</td>\n    </tr>\n    <tr>\n      <th>kafka_jelly_noprefix</th>\n      <td>68.170573</td>\n      <td>29.521428</td>\n      <td>26.196351</td>\n      <td>22.312736</td>\n      <td>39.911082</td>\n      <td>26.441093</td>\n      <td>29.369092</td>\n      <td>26.507672</td>\n      <td>39.307774</td>\n      <td>25.631454</td>\n    </tr>\n    <tr>\n      <th>kafka_jelly_noprefix_gzip</th>\n      <td>419.626235</td>\n      <td>450.360308</td>\n      <td>140.711070</td>\n      <td>76.082461</td>\n      <td>589.006886</td>\n      <td>118.639333</td>\n      <td>339.256994</td>\n      <td>179.298828</td>\n      <td>592.297375</td>\n      <td>143.298367</td>\n    </tr>\n    <tr>\n      <th>kafka_jena-proto</th>\n      <td>12.861914</td>\n      <td>9.957658</td>\n      <td>12.555687</td>\n      <td>12.930958</td>\n      <td>9.666884</td>\n      <td>12.621798</td>\n      <td>8.939839</td>\n      <td>12.551787</td>\n      <td>9.652311</td>\n      <td>16.721770</td>\n    </tr>\n    <tr>\n      <th>kafka_jena-proto_gzip</th>\n      <td>226.868728</td>\n      <td>286.424546</td>\n      <td>109.739594</td>\n      <td>68.549672</td>\n      <td>311.116524</td>\n      <td>114.946815</td>\n      <td>157.181058</td>\n      <td>152.230170</td>\n      <td>297.675837</td>\n      <td>141.320664</td>\n    </tr>\n    <tr>\n      <th>kafka_n3</th>\n      <td>13.241827</td>\n      <td>10.932986</td>\n      <td>12.883068</td>\n      <td>14.354956</td>\n      <td>10.527866</td>\n      <td>13.169434</td>\n      <td>9.388487</td>\n      <td>12.864014</td>\n      <td>10.510253</td>\n      <td>19.453450</td>\n    </tr>\n    <tr>\n      <th>kafka_n3_gzip</th>\n      <td>187.104862</td>\n      <td>144.841061</td>\n      <td>124.026392</td>\n      <td>61.099442</td>\n      <td>149.512183</td>\n      <td>88.137955</td>\n      <td>107.868608</td>\n      <td>79.747482</td>\n      <td>151.174525</td>\n      <td>139.191366</td>\n    </tr>\n  </tbody>\n</table>\n</div>"
     },
     "execution_count": 15,
     "metadata": {},
     "output_type": "execute_result"
    }
   ],
   "source": [
    "dt_50_full"
   ],
   "metadata": {
    "collapsed": false,
    "pycharm": {
     "name": "#%%\n"
    }
   }
  },
  {
   "cell_type": "code",
   "execution_count": 16,
   "outputs": [
    {
     "data": {
      "text/plain": "                           unlimited  100Mbit  50Mbit\nalgo                                                 \ngrpc_jelly_full               398.55   292.91  150.12\ngrpc_jelly_full_gzip          270.11   274.45  268.22\ngrpc_jelly_noprefix           482.51   269.76  138.43\ngrpc_jelly_noprefix_gzip      314.91   311.45  311.79\nkafka_jelly_full              480.73    56.67   35.91\nkafka_jelly_full_gzip         322.18   292.69  272.03\nkafka_jelly_noprefix          597.55    52.75   33.34\nkafka_jelly_noprefix_gzip     391.37   342.58  304.86\nkafka_jena-proto              282.33    18.74   11.85\nkafka_jena-proto_gzip         257.09   227.28  186.61\nkafka_n3                      125.15    20.16   12.73\nkafka_n3_gzip                 126.49   120.35  123.27",
      "text/html": "<div>\n<style scoped>\n    .dataframe tbody tr th:only-of-type {\n        vertical-align: middle;\n    }\n\n    .dataframe tbody tr th {\n        vertical-align: top;\n    }\n\n    .dataframe thead th {\n        text-align: right;\n    }\n</style>\n<table border=\"1\" class=\"dataframe\">\n  <thead>\n    <tr style=\"text-align: right;\">\n      <th></th>\n      <th>unlimited</th>\n      <th>100Mbit</th>\n      <th>50Mbit</th>\n    </tr>\n    <tr>\n      <th>algo</th>\n      <th></th>\n      <th></th>\n      <th></th>\n    </tr>\n  </thead>\n  <tbody>\n    <tr>\n      <th>grpc_jelly_full</th>\n      <td>398.55</td>\n      <td>292.91</td>\n      <td>150.12</td>\n    </tr>\n    <tr>\n      <th>grpc_jelly_full_gzip</th>\n      <td>270.11</td>\n      <td>274.45</td>\n      <td>268.22</td>\n    </tr>\n    <tr>\n      <th>grpc_jelly_noprefix</th>\n      <td>482.51</td>\n      <td>269.76</td>\n      <td>138.43</td>\n    </tr>\n    <tr>\n      <th>grpc_jelly_noprefix_gzip</th>\n      <td>314.91</td>\n      <td>311.45</td>\n      <td>311.79</td>\n    </tr>\n    <tr>\n      <th>kafka_jelly_full</th>\n      <td>480.73</td>\n      <td>56.67</td>\n      <td>35.91</td>\n    </tr>\n    <tr>\n      <th>kafka_jelly_full_gzip</th>\n      <td>322.18</td>\n      <td>292.69</td>\n      <td>272.03</td>\n    </tr>\n    <tr>\n      <th>kafka_jelly_noprefix</th>\n      <td>597.55</td>\n      <td>52.75</td>\n      <td>33.34</td>\n    </tr>\n    <tr>\n      <th>kafka_jelly_noprefix_gzip</th>\n      <td>391.37</td>\n      <td>342.58</td>\n      <td>304.86</td>\n    </tr>\n    <tr>\n      <th>kafka_jena-proto</th>\n      <td>282.33</td>\n      <td>18.74</td>\n      <td>11.85</td>\n    </tr>\n    <tr>\n      <th>kafka_jena-proto_gzip</th>\n      <td>257.09</td>\n      <td>227.28</td>\n      <td>186.61</td>\n    </tr>\n    <tr>\n      <th>kafka_n3</th>\n      <td>125.15</td>\n      <td>20.16</td>\n      <td>12.73</td>\n    </tr>\n    <tr>\n      <th>kafka_n3_gzip</th>\n      <td>126.49</td>\n      <td>120.35</td>\n      <td>123.27</td>\n    </tr>\n  </tbody>\n</table>\n</div>"
     },
     "execution_count": 16,
     "metadata": {},
     "output_type": "execute_result"
    }
   ],
   "source": [
    "dt_networks = pd.DataFrame(data=(dt_unl, dt_100, dt_50)).T\n",
    "dt_networks.columns = ['unlimited', '100Mbit', '50Mbit']\n",
    "dt_networks"
   ],
   "metadata": {
    "collapsed": false,
    "pycharm": {
     "name": "#%%\n"
    }
   }
  },
  {
   "cell_type": "code",
   "execution_count": 20,
   "outputs": [
    {
     "name": "stderr",
     "output_type": "stream",
     "text": [
      "/tmp/ipykernel_230919/1125886907.py:1: FutureWarning: In future versions `DataFrame.to_latex` is expected to utilise the base implementation of `Styler.to_latex` for formatting and rendering. The arguments signature may therefore change. It is recommended instead to use `DataFrame.style.to_latex` which also contains additional functionality.\n",
      "  dt_unl_full.to_latex(\n",
      "/tmp/ipykernel_230919/1125886907.py:6: FutureWarning: In future versions `DataFrame.to_latex` is expected to utilise the base implementation of `Styler.to_latex` for formatting and rendering. The arguments signature may therefore change. It is recommended instead to use `DataFrame.style.to_latex` which also contains additional functionality.\n",
      "  dt_100_full.to_latex(\n",
      "/tmp/ipykernel_230919/1125886907.py:11: FutureWarning: In future versions `DataFrame.to_latex` is expected to utilise the base implementation of `Styler.to_latex` for formatting and rendering. The arguments signature may therefore change. It is recommended instead to use `DataFrame.style.to_latex` which also contains additional functionality.\n",
      "  dt_50_full.to_latex(\n"
     ]
    }
   ],
   "source": [
    "dt_unl_full.to_latex(\n",
    "    'extra/latex/full_unl.tex',\n",
    "    float_format='%.2f',\n",
    "    caption='End-to-End Streaming Throughput -- unlimited network (kT/s)',\n",
    ")\n",
    "dt_100_full.to_latex(\n",
    "    'extra/latex/full_100.tex',\n",
    "    float_format='%.2f',\n",
    "    caption='End-to-End Streaming Throughput -- 100\\,Mbit/s network (kT/s)',\n",
    ")\n",
    "dt_50_full.to_latex(\n",
    "    'extra/latex/full_50.tex',\n",
    "    float_format='%.2f',\n",
    "    caption='End-to-End Streaming Throughput -- 50\\,Mbit/s network (kT/s)',\n",
    ")"
   ],
   "metadata": {
    "collapsed": false,
    "pycharm": {
     "name": "#%%\n"
    }
   }
  }
 ],
 "metadata": {
  "kernelspec": {
   "display_name": "Python 3",
   "language": "python",
   "name": "python3"
  },
  "language_info": {
   "codemirror_mode": {
    "name": "ipython",
    "version": 2
   },
   "file_extension": ".py",
   "mimetype": "text/x-python",
   "name": "python",
   "nbconvert_exporter": "python",
   "pygments_lexer": "ipython2",
   "version": "2.7.6"
  }
 },
 "nbformat": 4,
 "nbformat_minor": 0
}