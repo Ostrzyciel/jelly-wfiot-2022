{
 "cells": [
  {
   "cell_type": "code",
   "execution_count": 1,
   "metadata": {
    "collapsed": true,
    "pycharm": {
     "name": "#%%\n"
    }
   },
   "outputs": [],
   "source": [
    "import pandas as pd\n",
    "import numpy as np\n",
    "import scipy.stats as stats\n",
    "import seaborn as sns\n",
    "import matplotlib.pyplot as plt\n",
    "import os\n",
    "import json\n",
    "import util"
   ]
  },
  {
   "cell_type": "code",
   "execution_count": 2,
   "outputs": [],
   "source": [
    "sns.set(rc={'figure.figsize':(16, 12)})\n",
    "dirname = 'data/size/'"
   ],
   "metadata": {
    "collapsed": false,
    "pycharm": {
     "name": "#%%\n"
    }
   }
  },
  {
   "cell_type": "code",
   "execution_count": 3,
   "outputs": [],
   "source": [
    "exps = dict()\n",
    "\n",
    "for filename in sorted(os.listdir(dirname)):\n",
    "    with open(dirname + filename) as fp:\n",
    "        data = json.load(fp)\n",
    "\n",
    "    ds_name = util.get_ds_name(data)\n",
    "    for key in data['result']['sizes']:\n",
    "        exps[(key, ds_name)] = [data['result']['sizes'][key]]\n",
    "\n",
    "s_exps = pd.DataFrame.from_dict(exps).unstack()"
   ],
   "metadata": {
    "collapsed": false,
    "pycharm": {
     "name": "#%%\n"
    }
   }
  },
  {
   "cell_type": "code",
   "execution_count": 4,
   "outputs": [
    {
     "data": {
      "text/plain": "                  method     dataset        size   size_base  compression\n0                rdf-xml    identica     2095286     3444964    60.821710\n1                 turtle    identica     3062054     3444964    88.884935\n2                     n3    identica     3444964     3444964   100.000000\n3      jelly-noprefix-sm    identica     1732210     3444964    50.282383\n4    jelly-noprefix-gzip    identica      469190     3444964    13.619591\n..                   ...         ...         ...         ...          ...\n155       jelly-norepeat  nevada_10m   439123392  2064208968    21.273204\n156       jelly-noprefix  nevada_10m   421902060  2064208968    20.438922\n157           jena-proto  nevada_10m  2181884788  2064208968   105.700771\n158  jelly-norepeat-gzip  nevada_10m    69245400  2064208968     3.354573\n159              n3-gzip  nevada_10m    65818554  2064208968     3.188561\n\n[160 rows x 5 columns]",
      "text/html": "<div>\n<style scoped>\n    .dataframe tbody tr th:only-of-type {\n        vertical-align: middle;\n    }\n\n    .dataframe tbody tr th {\n        vertical-align: top;\n    }\n\n    .dataframe thead th {\n        text-align: right;\n    }\n</style>\n<table border=\"1\" class=\"dataframe\">\n  <thead>\n    <tr style=\"text-align: right;\">\n      <th></th>\n      <th>method</th>\n      <th>dataset</th>\n      <th>size</th>\n      <th>size_base</th>\n      <th>compression</th>\n    </tr>\n  </thead>\n  <tbody>\n    <tr>\n      <th>0</th>\n      <td>rdf-xml</td>\n      <td>identica</td>\n      <td>2095286</td>\n      <td>3444964</td>\n      <td>60.821710</td>\n    </tr>\n    <tr>\n      <th>1</th>\n      <td>turtle</td>\n      <td>identica</td>\n      <td>3062054</td>\n      <td>3444964</td>\n      <td>88.884935</td>\n    </tr>\n    <tr>\n      <th>2</th>\n      <td>n3</td>\n      <td>identica</td>\n      <td>3444964</td>\n      <td>3444964</td>\n      <td>100.000000</td>\n    </tr>\n    <tr>\n      <th>3</th>\n      <td>jelly-noprefix-sm</td>\n      <td>identica</td>\n      <td>1732210</td>\n      <td>3444964</td>\n      <td>50.282383</td>\n    </tr>\n    <tr>\n      <th>4</th>\n      <td>jelly-noprefix-gzip</td>\n      <td>identica</td>\n      <td>469190</td>\n      <td>3444964</td>\n      <td>13.619591</td>\n    </tr>\n    <tr>\n      <th>...</th>\n      <td>...</td>\n      <td>...</td>\n      <td>...</td>\n      <td>...</td>\n      <td>...</td>\n    </tr>\n    <tr>\n      <th>155</th>\n      <td>jelly-norepeat</td>\n      <td>nevada_10m</td>\n      <td>439123392</td>\n      <td>2064208968</td>\n      <td>21.273204</td>\n    </tr>\n    <tr>\n      <th>156</th>\n      <td>jelly-noprefix</td>\n      <td>nevada_10m</td>\n      <td>421902060</td>\n      <td>2064208968</td>\n      <td>20.438922</td>\n    </tr>\n    <tr>\n      <th>157</th>\n      <td>jena-proto</td>\n      <td>nevada_10m</td>\n      <td>2181884788</td>\n      <td>2064208968</td>\n      <td>105.700771</td>\n    </tr>\n    <tr>\n      <th>158</th>\n      <td>jelly-norepeat-gzip</td>\n      <td>nevada_10m</td>\n      <td>69245400</td>\n      <td>2064208968</td>\n      <td>3.354573</td>\n    </tr>\n    <tr>\n      <th>159</th>\n      <td>n3-gzip</td>\n      <td>nevada_10m</td>\n      <td>65818554</td>\n      <td>2064208968</td>\n      <td>3.188561</td>\n    </tr>\n  </tbody>\n</table>\n<p>160 rows × 5 columns</p>\n</div>"
     },
     "execution_count": 4,
     "metadata": {},
     "output_type": "execute_result"
    }
   ],
   "source": [
    "dt_exps = s_exps.reset_index().set_axis(['method', 'dataset', 'non', 'size'], axis=1, inplace=False)\\\n",
    "    [['method', 'dataset', 'size']]\n",
    "baselines = dt_exps[dt_exps.method == 'n3'].set_index('dataset')[['size']]\n",
    "\n",
    "dt_exps = dt_exps.join(baselines, on='dataset', rsuffix='_base')\n",
    "dt_exps['compression'] = 100.0 * dt_exps['size'] / dt_exps['size_base']\n",
    "\n",
    "dt_exps"
   ],
   "metadata": {
    "collapsed": false,
    "pycharm": {
     "name": "#%%\n"
    }
   }
  },
  {
   "cell_type": "code",
   "execution_count": 5,
   "outputs": [
    {
     "data": {
      "text/plain": "                method         dataset       size   size_base  compression\n3    jelly-noprefix-sm        identica    1732210     3444964    50.282383\n8           jelly-full        identica    1628865     3444964    47.282497\n11      jelly-norepeat        identica    1941671     3444964    56.362592\n12      jelly-noprefix        identica    1711259     3444964    49.674220\n19   jelly-noprefix-sm             mix    4555910    12305408    37.023640\n24          jelly-full             mix    3754377    12305408    30.509976\n27      jelly-norepeat             mix    4243368    12305408    34.483765\n28      jelly-noprefix             mix    4116881    12305408    33.455868\n35   jelly-noprefix-sm       wikipedia   18986766    34183225    55.544104\n40          jelly-full       wikipedia   16942469    34183225    49.563694\n43      jelly-norepeat       wikipedia   18131789    34183225    53.042944\n44      jelly-noprefix       wikipedia   19096644    34183225    55.865542\n51   jelly-noprefix-sm         aemet-1   28616103   139166343    20.562517\n56          jelly-full         aemet-1   27005163   139166343    19.404953\n59      jelly-norepeat         aemet-1   33836886   139166343    24.313987\n60      jelly-noprefix         aemet-1   26370842   139166343    18.949152\n67   jelly-noprefix-sm  migr_reschange   83818564   490176015    17.099687\n72          jelly-full  migr_reschange   77261556   490176015    15.762003\n75      jelly-norepeat  migr_reschange   88632570   490176015    18.081784\n76      jelly-noprefix  migr_reschange   84299012   490176015    17.197702\n83   jelly-noprefix-sm  tour_cap_nuts3   94550243   543978112    17.381259\n88          jelly-full  tour_cap_nuts3   86488603   543978112    15.899280\n91      jelly-norepeat  tour_cap_nuts3   99079202   543978112    18.213821\n92      jelly-noprefix  tour_cap_nuts3   95146588   543978112    17.490885\n99   jelly-noprefix-sm         aemet-2  121019388   517801523    23.371771\n104         jelly-full         aemet-2  114266206   517801523    22.067569\n107     jelly-norepeat         aemet-2  126196158   517801523    24.371531\n108     jelly-noprefix         aemet-2  119060796   517801523    22.993520\n115  jelly-noprefix-sm          petrol  177889079   508101696    35.010527\n120         jelly-full          petrol  129587665   508101696    25.504277\n123     jelly-norepeat          petrol  144209164   508101696    28.381949\n124     jelly-noprefix          petrol  158094207   508101696    31.114678\n131  jelly-noprefix-sm      flickr_10m  504835226  1509693995    33.439573\n136         jelly-full      flickr_10m  476436192  1509693995    31.558461\n139     jelly-norepeat      flickr_10m  541851460  1509693995    35.891476\n140     jelly-noprefix      flickr_10m  495774753  1509693995    32.839420\n147  jelly-noprefix-sm      nevada_10m  591543127  2064208968    28.657134\n152         jelly-full      nevada_10m  395613265  2064208968    19.165369\n155     jelly-norepeat      nevada_10m  439123392  2064208968    21.273204\n156     jelly-noprefix      nevada_10m  421902060  2064208968    20.438922",
      "text/html": "<div>\n<style scoped>\n    .dataframe tbody tr th:only-of-type {\n        vertical-align: middle;\n    }\n\n    .dataframe tbody tr th {\n        vertical-align: top;\n    }\n\n    .dataframe thead th {\n        text-align: right;\n    }\n</style>\n<table border=\"1\" class=\"dataframe\">\n  <thead>\n    <tr style=\"text-align: right;\">\n      <th></th>\n      <th>method</th>\n      <th>dataset</th>\n      <th>size</th>\n      <th>size_base</th>\n      <th>compression</th>\n    </tr>\n  </thead>\n  <tbody>\n    <tr>\n      <th>3</th>\n      <td>jelly-noprefix-sm</td>\n      <td>identica</td>\n      <td>1732210</td>\n      <td>3444964</td>\n      <td>50.282383</td>\n    </tr>\n    <tr>\n      <th>8</th>\n      <td>jelly-full</td>\n      <td>identica</td>\n      <td>1628865</td>\n      <td>3444964</td>\n      <td>47.282497</td>\n    </tr>\n    <tr>\n      <th>11</th>\n      <td>jelly-norepeat</td>\n      <td>identica</td>\n      <td>1941671</td>\n      <td>3444964</td>\n      <td>56.362592</td>\n    </tr>\n    <tr>\n      <th>12</th>\n      <td>jelly-noprefix</td>\n      <td>identica</td>\n      <td>1711259</td>\n      <td>3444964</td>\n      <td>49.674220</td>\n    </tr>\n    <tr>\n      <th>19</th>\n      <td>jelly-noprefix-sm</td>\n      <td>mix</td>\n      <td>4555910</td>\n      <td>12305408</td>\n      <td>37.023640</td>\n    </tr>\n    <tr>\n      <th>24</th>\n      <td>jelly-full</td>\n      <td>mix</td>\n      <td>3754377</td>\n      <td>12305408</td>\n      <td>30.509976</td>\n    </tr>\n    <tr>\n      <th>27</th>\n      <td>jelly-norepeat</td>\n      <td>mix</td>\n      <td>4243368</td>\n      <td>12305408</td>\n      <td>34.483765</td>\n    </tr>\n    <tr>\n      <th>28</th>\n      <td>jelly-noprefix</td>\n      <td>mix</td>\n      <td>4116881</td>\n      <td>12305408</td>\n      <td>33.455868</td>\n    </tr>\n    <tr>\n      <th>35</th>\n      <td>jelly-noprefix-sm</td>\n      <td>wikipedia</td>\n      <td>18986766</td>\n      <td>34183225</td>\n      <td>55.544104</td>\n    </tr>\n    <tr>\n      <th>40</th>\n      <td>jelly-full</td>\n      <td>wikipedia</td>\n      <td>16942469</td>\n      <td>34183225</td>\n      <td>49.563694</td>\n    </tr>\n    <tr>\n      <th>43</th>\n      <td>jelly-norepeat</td>\n      <td>wikipedia</td>\n      <td>18131789</td>\n      <td>34183225</td>\n      <td>53.042944</td>\n    </tr>\n    <tr>\n      <th>44</th>\n      <td>jelly-noprefix</td>\n      <td>wikipedia</td>\n      <td>19096644</td>\n      <td>34183225</td>\n      <td>55.865542</td>\n    </tr>\n    <tr>\n      <th>51</th>\n      <td>jelly-noprefix-sm</td>\n      <td>aemet-1</td>\n      <td>28616103</td>\n      <td>139166343</td>\n      <td>20.562517</td>\n    </tr>\n    <tr>\n      <th>56</th>\n      <td>jelly-full</td>\n      <td>aemet-1</td>\n      <td>27005163</td>\n      <td>139166343</td>\n      <td>19.404953</td>\n    </tr>\n    <tr>\n      <th>59</th>\n      <td>jelly-norepeat</td>\n      <td>aemet-1</td>\n      <td>33836886</td>\n      <td>139166343</td>\n      <td>24.313987</td>\n    </tr>\n    <tr>\n      <th>60</th>\n      <td>jelly-noprefix</td>\n      <td>aemet-1</td>\n      <td>26370842</td>\n      <td>139166343</td>\n      <td>18.949152</td>\n    </tr>\n    <tr>\n      <th>67</th>\n      <td>jelly-noprefix-sm</td>\n      <td>migr_reschange</td>\n      <td>83818564</td>\n      <td>490176015</td>\n      <td>17.099687</td>\n    </tr>\n    <tr>\n      <th>72</th>\n      <td>jelly-full</td>\n      <td>migr_reschange</td>\n      <td>77261556</td>\n      <td>490176015</td>\n      <td>15.762003</td>\n    </tr>\n    <tr>\n      <th>75</th>\n      <td>jelly-norepeat</td>\n      <td>migr_reschange</td>\n      <td>88632570</td>\n      <td>490176015</td>\n      <td>18.081784</td>\n    </tr>\n    <tr>\n      <th>76</th>\n      <td>jelly-noprefix</td>\n      <td>migr_reschange</td>\n      <td>84299012</td>\n      <td>490176015</td>\n      <td>17.197702</td>\n    </tr>\n    <tr>\n      <th>83</th>\n      <td>jelly-noprefix-sm</td>\n      <td>tour_cap_nuts3</td>\n      <td>94550243</td>\n      <td>543978112</td>\n      <td>17.381259</td>\n    </tr>\n    <tr>\n      <th>88</th>\n      <td>jelly-full</td>\n      <td>tour_cap_nuts3</td>\n      <td>86488603</td>\n      <td>543978112</td>\n      <td>15.899280</td>\n    </tr>\n    <tr>\n      <th>91</th>\n      <td>jelly-norepeat</td>\n      <td>tour_cap_nuts3</td>\n      <td>99079202</td>\n      <td>543978112</td>\n      <td>18.213821</td>\n    </tr>\n    <tr>\n      <th>92</th>\n      <td>jelly-noprefix</td>\n      <td>tour_cap_nuts3</td>\n      <td>95146588</td>\n      <td>543978112</td>\n      <td>17.490885</td>\n    </tr>\n    <tr>\n      <th>99</th>\n      <td>jelly-noprefix-sm</td>\n      <td>aemet-2</td>\n      <td>121019388</td>\n      <td>517801523</td>\n      <td>23.371771</td>\n    </tr>\n    <tr>\n      <th>104</th>\n      <td>jelly-full</td>\n      <td>aemet-2</td>\n      <td>114266206</td>\n      <td>517801523</td>\n      <td>22.067569</td>\n    </tr>\n    <tr>\n      <th>107</th>\n      <td>jelly-norepeat</td>\n      <td>aemet-2</td>\n      <td>126196158</td>\n      <td>517801523</td>\n      <td>24.371531</td>\n    </tr>\n    <tr>\n      <th>108</th>\n      <td>jelly-noprefix</td>\n      <td>aemet-2</td>\n      <td>119060796</td>\n      <td>517801523</td>\n      <td>22.993520</td>\n    </tr>\n    <tr>\n      <th>115</th>\n      <td>jelly-noprefix-sm</td>\n      <td>petrol</td>\n      <td>177889079</td>\n      <td>508101696</td>\n      <td>35.010527</td>\n    </tr>\n    <tr>\n      <th>120</th>\n      <td>jelly-full</td>\n      <td>petrol</td>\n      <td>129587665</td>\n      <td>508101696</td>\n      <td>25.504277</td>\n    </tr>\n    <tr>\n      <th>123</th>\n      <td>jelly-norepeat</td>\n      <td>petrol</td>\n      <td>144209164</td>\n      <td>508101696</td>\n      <td>28.381949</td>\n    </tr>\n    <tr>\n      <th>124</th>\n      <td>jelly-noprefix</td>\n      <td>petrol</td>\n      <td>158094207</td>\n      <td>508101696</td>\n      <td>31.114678</td>\n    </tr>\n    <tr>\n      <th>131</th>\n      <td>jelly-noprefix-sm</td>\n      <td>flickr_10m</td>\n      <td>504835226</td>\n      <td>1509693995</td>\n      <td>33.439573</td>\n    </tr>\n    <tr>\n      <th>136</th>\n      <td>jelly-full</td>\n      <td>flickr_10m</td>\n      <td>476436192</td>\n      <td>1509693995</td>\n      <td>31.558461</td>\n    </tr>\n    <tr>\n      <th>139</th>\n      <td>jelly-norepeat</td>\n      <td>flickr_10m</td>\n      <td>541851460</td>\n      <td>1509693995</td>\n      <td>35.891476</td>\n    </tr>\n    <tr>\n      <th>140</th>\n      <td>jelly-noprefix</td>\n      <td>flickr_10m</td>\n      <td>495774753</td>\n      <td>1509693995</td>\n      <td>32.839420</td>\n    </tr>\n    <tr>\n      <th>147</th>\n      <td>jelly-noprefix-sm</td>\n      <td>nevada_10m</td>\n      <td>591543127</td>\n      <td>2064208968</td>\n      <td>28.657134</td>\n    </tr>\n    <tr>\n      <th>152</th>\n      <td>jelly-full</td>\n      <td>nevada_10m</td>\n      <td>395613265</td>\n      <td>2064208968</td>\n      <td>19.165369</td>\n    </tr>\n    <tr>\n      <th>155</th>\n      <td>jelly-norepeat</td>\n      <td>nevada_10m</td>\n      <td>439123392</td>\n      <td>2064208968</td>\n      <td>21.273204</td>\n    </tr>\n    <tr>\n      <th>156</th>\n      <td>jelly-noprefix</td>\n      <td>nevada_10m</td>\n      <td>421902060</td>\n      <td>2064208968</td>\n      <td>20.438922</td>\n    </tr>\n  </tbody>\n</table>\n</div>"
     },
     "execution_count": 5,
     "metadata": {},
     "output_type": "execute_result"
    }
   ],
   "source": [
    "dt_exps[dt_exps.method.str.startswith('jelly') & ~dt_exps.method.str.endswith('gzip')]"
   ],
   "metadata": {
    "collapsed": false,
    "pycharm": {
     "name": "#%%\n"
    }
   }
  },
  {
   "cell_type": "code",
   "execution_count": 6,
   "outputs": [
    {
     "data": {
      "text/plain": "                              mean       gmean\nmethod                                        \njelly-full               27.671808   25.545875\njelly-full-gzip           5.327854    3.405951\njelly-noprefix           30.001991   27.574291\njelly-noprefix-gzip       5.350713    3.438206\njelly-noprefix-sm        31.837259   29.478558\njelly-noprefix-sm-gzip    5.573533    3.688505\njelly-norepeat           31.441705   29.103693\njelly-norepeat-gzip       7.071251    5.486199\njena-proto              108.354843  108.334977\njena-proto-gzip           8.250078    6.705212\nn3                      100.000000  100.000000\nn3-gzip                   7.084045    5.798668\nrdf-xml                  51.413297   50.048447\nrdf-xml-gzip              4.297768    2.991278\nturtle                   73.473538   72.203403\nturtle-gzip               4.431052    3.204445",
      "text/html": "<div>\n<style scoped>\n    .dataframe tbody tr th:only-of-type {\n        vertical-align: middle;\n    }\n\n    .dataframe tbody tr th {\n        vertical-align: top;\n    }\n\n    .dataframe thead th {\n        text-align: right;\n    }\n</style>\n<table border=\"1\" class=\"dataframe\">\n  <thead>\n    <tr style=\"text-align: right;\">\n      <th></th>\n      <th>mean</th>\n      <th>gmean</th>\n    </tr>\n    <tr>\n      <th>method</th>\n      <th></th>\n      <th></th>\n    </tr>\n  </thead>\n  <tbody>\n    <tr>\n      <th>jelly-full</th>\n      <td>27.671808</td>\n      <td>25.545875</td>\n    </tr>\n    <tr>\n      <th>jelly-full-gzip</th>\n      <td>5.327854</td>\n      <td>3.405951</td>\n    </tr>\n    <tr>\n      <th>jelly-noprefix</th>\n      <td>30.001991</td>\n      <td>27.574291</td>\n    </tr>\n    <tr>\n      <th>jelly-noprefix-gzip</th>\n      <td>5.350713</td>\n      <td>3.438206</td>\n    </tr>\n    <tr>\n      <th>jelly-noprefix-sm</th>\n      <td>31.837259</td>\n      <td>29.478558</td>\n    </tr>\n    <tr>\n      <th>jelly-noprefix-sm-gzip</th>\n      <td>5.573533</td>\n      <td>3.688505</td>\n    </tr>\n    <tr>\n      <th>jelly-norepeat</th>\n      <td>31.441705</td>\n      <td>29.103693</td>\n    </tr>\n    <tr>\n      <th>jelly-norepeat-gzip</th>\n      <td>7.071251</td>\n      <td>5.486199</td>\n    </tr>\n    <tr>\n      <th>jena-proto</th>\n      <td>108.354843</td>\n      <td>108.334977</td>\n    </tr>\n    <tr>\n      <th>jena-proto-gzip</th>\n      <td>8.250078</td>\n      <td>6.705212</td>\n    </tr>\n    <tr>\n      <th>n3</th>\n      <td>100.000000</td>\n      <td>100.000000</td>\n    </tr>\n    <tr>\n      <th>n3-gzip</th>\n      <td>7.084045</td>\n      <td>5.798668</td>\n    </tr>\n    <tr>\n      <th>rdf-xml</th>\n      <td>51.413297</td>\n      <td>50.048447</td>\n    </tr>\n    <tr>\n      <th>rdf-xml-gzip</th>\n      <td>4.297768</td>\n      <td>2.991278</td>\n    </tr>\n    <tr>\n      <th>turtle</th>\n      <td>73.473538</td>\n      <td>72.203403</td>\n    </tr>\n    <tr>\n      <th>turtle-gzip</th>\n      <td>4.431052</td>\n      <td>3.204445</td>\n    </tr>\n  </tbody>\n</table>\n</div>"
     },
     "execution_count": 6,
     "metadata": {},
     "output_type": "execute_result"
    }
   ],
   "source": [
    "dt_exps_agg = dt_exps.groupby(by='method')[['compression']].agg([np.mean, stats.gmean])\\\n",
    "    .set_axis(['mean', 'gmean'], axis=1, inplace=False)\n",
    "dt_exps_agg"
   ],
   "metadata": {
    "collapsed": false,
    "pycharm": {
     "name": "#%%\n"
    }
   }
  },
  {
   "cell_type": "code",
   "execution_count": 7,
   "outputs": [
    {
     "data": {
      "text/plain": "           dataset  eri-4k  eri-4k-nodict  hdt-4k\n0         identica     8.4            8.0    16.4\n1              mix     5.2            5.1    10.6\n2        wikipedia     7.5            7.7    13.4\n3          aemet-1     1.2            0.8     4.4\n4   migr_reschange     0.5            0.5     2.6\n5  tour_cap_nuts_3     0.5            0.6     2.6\n6          aemet-2     1.1            1.1     3.8\n7           petrol     2.9            2.6     9.9\n8       flickr_10m     6.6            6.3    14.4\n9       nevada_10m     1.5            1.3     4.9",
      "text/html": "<div>\n<style scoped>\n    .dataframe tbody tr th:only-of-type {\n        vertical-align: middle;\n    }\n\n    .dataframe tbody tr th {\n        vertical-align: top;\n    }\n\n    .dataframe thead th {\n        text-align: right;\n    }\n</style>\n<table border=\"1\" class=\"dataframe\">\n  <thead>\n    <tr style=\"text-align: right;\">\n      <th></th>\n      <th>dataset</th>\n      <th>eri-4k</th>\n      <th>eri-4k-nodict</th>\n      <th>hdt-4k</th>\n    </tr>\n  </thead>\n  <tbody>\n    <tr>\n      <th>0</th>\n      <td>identica</td>\n      <td>8.4</td>\n      <td>8.0</td>\n      <td>16.4</td>\n    </tr>\n    <tr>\n      <th>1</th>\n      <td>mix</td>\n      <td>5.2</td>\n      <td>5.1</td>\n      <td>10.6</td>\n    </tr>\n    <tr>\n      <th>2</th>\n      <td>wikipedia</td>\n      <td>7.5</td>\n      <td>7.7</td>\n      <td>13.4</td>\n    </tr>\n    <tr>\n      <th>3</th>\n      <td>aemet-1</td>\n      <td>1.2</td>\n      <td>0.8</td>\n      <td>4.4</td>\n    </tr>\n    <tr>\n      <th>4</th>\n      <td>migr_reschange</td>\n      <td>0.5</td>\n      <td>0.5</td>\n      <td>2.6</td>\n    </tr>\n    <tr>\n      <th>5</th>\n      <td>tour_cap_nuts_3</td>\n      <td>0.5</td>\n      <td>0.6</td>\n      <td>2.6</td>\n    </tr>\n    <tr>\n      <th>6</th>\n      <td>aemet-2</td>\n      <td>1.1</td>\n      <td>1.1</td>\n      <td>3.8</td>\n    </tr>\n    <tr>\n      <th>7</th>\n      <td>petrol</td>\n      <td>2.9</td>\n      <td>2.6</td>\n      <td>9.9</td>\n    </tr>\n    <tr>\n      <th>8</th>\n      <td>flickr_10m</td>\n      <td>6.6</td>\n      <td>6.3</td>\n      <td>14.4</td>\n    </tr>\n    <tr>\n      <th>9</th>\n      <td>nevada_10m</td>\n      <td>1.5</td>\n      <td>1.3</td>\n      <td>4.9</td>\n    </tr>\n  </tbody>\n</table>\n</div>"
     },
     "execution_count": 7,
     "metadata": {},
     "output_type": "execute_result"
    }
   ],
   "source": [
    "dt_extra = pd.read_csv('data/sizes_eri_hdt.tsv', sep='\\t')\n",
    "dt_extra"
   ],
   "metadata": {
    "collapsed": false,
    "pycharm": {
     "name": "#%%\n"
    }
   }
  },
  {
   "cell_type": "code",
   "execution_count": 8,
   "outputs": [
    {
     "data": {
      "text/plain": "               mean     gmean\neri-4k         3.54  2.234545\neri-4k-nodict  3.40  2.112035\nhdt-4k         8.30  6.705993",
      "text/html": "<div>\n<style scoped>\n    .dataframe tbody tr th:only-of-type {\n        vertical-align: middle;\n    }\n\n    .dataframe tbody tr th {\n        vertical-align: top;\n    }\n\n    .dataframe thead th {\n        text-align: right;\n    }\n</style>\n<table border=\"1\" class=\"dataframe\">\n  <thead>\n    <tr style=\"text-align: right;\">\n      <th></th>\n      <th>mean</th>\n      <th>gmean</th>\n    </tr>\n  </thead>\n  <tbody>\n    <tr>\n      <th>eri-4k</th>\n      <td>3.54</td>\n      <td>2.234545</td>\n    </tr>\n    <tr>\n      <th>eri-4k-nodict</th>\n      <td>3.40</td>\n      <td>2.112035</td>\n    </tr>\n    <tr>\n      <th>hdt-4k</th>\n      <td>8.30</td>\n      <td>6.705993</td>\n    </tr>\n  </tbody>\n</table>\n</div>"
     },
     "execution_count": 8,
     "metadata": {},
     "output_type": "execute_result"
    }
   ],
   "source": [
    "dt_extra_agg = dt_extra[['eri-4k', 'eri-4k-nodict', 'hdt-4k']].apply([np.mean, stats.gmean], axis=0).T\n",
    "dt_extra_agg"
   ],
   "metadata": {
    "collapsed": false,
    "pycharm": {
     "name": "#%%\n"
    }
   }
  },
  {
   "cell_type": "markdown",
   "source": [],
   "metadata": {
    "collapsed": false,
    "pycharm": {
     "name": "#%% md\n"
    }
   }
  },
  {
   "cell_type": "code",
   "execution_count": 9,
   "outputs": [
    {
     "data": {
      "text/plain": "                          mean   gmean\njelly-full               27.67   25.55\njelly-full-gzip           5.33    3.41\njelly-noprefix           30.00   27.57\njelly-noprefix-gzip       5.35    3.44\njelly-noprefix-sm        31.84   29.48\njelly-noprefix-sm-gzip    5.57    3.69\njelly-norepeat           31.44   29.10\njelly-norepeat-gzip       7.07    5.49\njena-proto              108.35  108.33\njena-proto-gzip           8.25    6.71\nn3                      100.00  100.00\nn3-gzip                   7.08    5.80\nrdf-xml                  51.41   50.05\nrdf-xml-gzip              4.30    2.99\nturtle                   73.47   72.20\nturtle-gzip               4.43    3.20\neri-4k                    3.54    2.23\neri-4k-nodict             3.40    2.11\nhdt-4k                    8.30    6.71",
      "text/html": "<div>\n<style scoped>\n    .dataframe tbody tr th:only-of-type {\n        vertical-align: middle;\n    }\n\n    .dataframe tbody tr th {\n        vertical-align: top;\n    }\n\n    .dataframe thead th {\n        text-align: right;\n    }\n</style>\n<table border=\"1\" class=\"dataframe\">\n  <thead>\n    <tr style=\"text-align: right;\">\n      <th></th>\n      <th>mean</th>\n      <th>gmean</th>\n    </tr>\n  </thead>\n  <tbody>\n    <tr>\n      <th>jelly-full</th>\n      <td>27.67</td>\n      <td>25.55</td>\n    </tr>\n    <tr>\n      <th>jelly-full-gzip</th>\n      <td>5.33</td>\n      <td>3.41</td>\n    </tr>\n    <tr>\n      <th>jelly-noprefix</th>\n      <td>30.00</td>\n      <td>27.57</td>\n    </tr>\n    <tr>\n      <th>jelly-noprefix-gzip</th>\n      <td>5.35</td>\n      <td>3.44</td>\n    </tr>\n    <tr>\n      <th>jelly-noprefix-sm</th>\n      <td>31.84</td>\n      <td>29.48</td>\n    </tr>\n    <tr>\n      <th>jelly-noprefix-sm-gzip</th>\n      <td>5.57</td>\n      <td>3.69</td>\n    </tr>\n    <tr>\n      <th>jelly-norepeat</th>\n      <td>31.44</td>\n      <td>29.10</td>\n    </tr>\n    <tr>\n      <th>jelly-norepeat-gzip</th>\n      <td>7.07</td>\n      <td>5.49</td>\n    </tr>\n    <tr>\n      <th>jena-proto</th>\n      <td>108.35</td>\n      <td>108.33</td>\n    </tr>\n    <tr>\n      <th>jena-proto-gzip</th>\n      <td>8.25</td>\n      <td>6.71</td>\n    </tr>\n    <tr>\n      <th>n3</th>\n      <td>100.00</td>\n      <td>100.00</td>\n    </tr>\n    <tr>\n      <th>n3-gzip</th>\n      <td>7.08</td>\n      <td>5.80</td>\n    </tr>\n    <tr>\n      <th>rdf-xml</th>\n      <td>51.41</td>\n      <td>50.05</td>\n    </tr>\n    <tr>\n      <th>rdf-xml-gzip</th>\n      <td>4.30</td>\n      <td>2.99</td>\n    </tr>\n    <tr>\n      <th>turtle</th>\n      <td>73.47</td>\n      <td>72.20</td>\n    </tr>\n    <tr>\n      <th>turtle-gzip</th>\n      <td>4.43</td>\n      <td>3.20</td>\n    </tr>\n    <tr>\n      <th>eri-4k</th>\n      <td>3.54</td>\n      <td>2.23</td>\n    </tr>\n    <tr>\n      <th>eri-4k-nodict</th>\n      <td>3.40</td>\n      <td>2.11</td>\n    </tr>\n    <tr>\n      <th>hdt-4k</th>\n      <td>8.30</td>\n      <td>6.71</td>\n    </tr>\n  </tbody>\n</table>\n</div>"
     },
     "execution_count": 9,
     "metadata": {},
     "output_type": "execute_result"
    }
   ],
   "source": [
    "pd.concat((dt_exps_agg, dt_extra_agg)).apply(lambda x: np.round(x, 2))"
   ],
   "metadata": {
    "collapsed": false,
    "pycharm": {
     "name": "#%%\n"
    }
   }
  },
  {
   "cell_type": "code",
   "execution_count": 10,
   "outputs": [
    {
     "data": {
      "text/plain": "dataset                    aemet-1     aemet-2  flickr_10m    identica  \\\nmethod                                                                   \njelly-full               19.404953   22.067569   31.558461   47.282497   \njelly-full-gzip           1.800741    1.585588   10.695717   13.746936   \njelly-noprefix           18.949152   22.993520   32.839420   49.674220   \njelly-noprefix-gzip       1.769707    1.582508   10.405967   13.619591   \njelly-noprefix-sm        20.562517   23.371771   33.439573   50.282383   \njelly-noprefix-sm-gzip    2.018094    1.749579   10.385310   13.608996   \njelly-norepeat           24.313987   24.371531   35.891476   56.362592   \njelly-norepeat-gzip       3.826190    2.934659   12.705222   15.328056   \njena-proto              110.154057  106.846809  108.291433  109.905764   \njena-proto-gzip           5.559780    3.844618   12.875937   18.342920   \nn3                      100.000000  100.000000  100.000000  100.000000   \nn3-gzip                   4.392435    3.346989   10.834264   16.148384   \nrdf-xml                  28.042104   49.663984   51.629319   60.821710   \nrdf-xml-gzip              2.854421    1.284269    7.953026    8.669844   \nturtle                   65.937616   68.004122   46.316058   88.884935   \nturtle-gzip               2.205550    1.531260    7.071971    9.504308   \n\ndataset                 migr_reschange         mix  nevada_10m      petrol  \\\nmethod                                                                       \njelly-full                   15.762003   30.509976   19.165369   25.504277   \njelly-full-gzip               0.750982    6.947401    2.271990    4.507010   \njelly-noprefix               17.197702   33.455868   20.438922   31.114678   \njelly-noprefix-gzip           0.775855    7.144842    2.325314    4.695189   \njelly-noprefix-sm            17.099687   37.023640   28.657134   35.010527   \njelly-noprefix-sm-gzip        0.804673    7.822569    2.820073    5.284860   \njelly-norepeat               18.081784   34.483765   21.273204   28.381949   \njelly-norepeat-gzip           2.044610    8.843762    3.354573    6.797645   \njena-proto                  106.293215  109.509542  105.700771  107.925817   \njena-proto-gzip               2.600573   11.377339    4.160474    7.040552   \nn3                          100.000000  100.000000  100.000000  100.000000   \nn3-gzip                       2.594902    9.095716    3.188561    7.003955   \nrdf-xml                      46.121703   50.231362   50.370222   54.527295   \nrdf-xml-gzip                  0.753194    6.112020    1.457086    4.120629   \nturtle                       69.090445   78.512261   71.974910   78.352477   \nturtle-gzip                   0.965433    6.421030    1.985393    4.315261   \n\ndataset                 tour_cap_nuts3   wikipedia  \nmethod                                              \njelly-full                   15.899280   49.563694  \njelly-full-gzip               0.932999   10.039181  \njelly-noprefix               17.490885   55.865542  \njelly-noprefix-gzip           0.937486   10.250674  \njelly-noprefix-sm            17.381259   55.544104  \njelly-noprefix-sm-gzip        0.969331   10.271851  \njelly-norepeat               18.213821   53.042944  \njelly-norepeat-gzip           2.152904   12.724894  \njena-proto                  106.285225  112.635800  \njena-proto-gzip               3.083898   13.614690  \nn3                          100.000000  100.000000  \nn3-gzip                       2.763578   11.471665  \nrdf-xml                      46.466766   76.258510  \nrdf-xml-gzip                  0.928128    8.845067  \nturtle                       69.406307   98.256250  \nturtle-gzip                   1.019185    9.291127  ",
      "text/html": "<div>\n<style scoped>\n    .dataframe tbody tr th:only-of-type {\n        vertical-align: middle;\n    }\n\n    .dataframe tbody tr th {\n        vertical-align: top;\n    }\n\n    .dataframe thead th {\n        text-align: right;\n    }\n</style>\n<table border=\"1\" class=\"dataframe\">\n  <thead>\n    <tr style=\"text-align: right;\">\n      <th>dataset</th>\n      <th>aemet-1</th>\n      <th>aemet-2</th>\n      <th>flickr_10m</th>\n      <th>identica</th>\n      <th>migr_reschange</th>\n      <th>mix</th>\n      <th>nevada_10m</th>\n      <th>petrol</th>\n      <th>tour_cap_nuts3</th>\n      <th>wikipedia</th>\n    </tr>\n    <tr>\n      <th>method</th>\n      <th></th>\n      <th></th>\n      <th></th>\n      <th></th>\n      <th></th>\n      <th></th>\n      <th></th>\n      <th></th>\n      <th></th>\n      <th></th>\n    </tr>\n  </thead>\n  <tbody>\n    <tr>\n      <th>jelly-full</th>\n      <td>19.404953</td>\n      <td>22.067569</td>\n      <td>31.558461</td>\n      <td>47.282497</td>\n      <td>15.762003</td>\n      <td>30.509976</td>\n      <td>19.165369</td>\n      <td>25.504277</td>\n      <td>15.899280</td>\n      <td>49.563694</td>\n    </tr>\n    <tr>\n      <th>jelly-full-gzip</th>\n      <td>1.800741</td>\n      <td>1.585588</td>\n      <td>10.695717</td>\n      <td>13.746936</td>\n      <td>0.750982</td>\n      <td>6.947401</td>\n      <td>2.271990</td>\n      <td>4.507010</td>\n      <td>0.932999</td>\n      <td>10.039181</td>\n    </tr>\n    <tr>\n      <th>jelly-noprefix</th>\n      <td>18.949152</td>\n      <td>22.993520</td>\n      <td>32.839420</td>\n      <td>49.674220</td>\n      <td>17.197702</td>\n      <td>33.455868</td>\n      <td>20.438922</td>\n      <td>31.114678</td>\n      <td>17.490885</td>\n      <td>55.865542</td>\n    </tr>\n    <tr>\n      <th>jelly-noprefix-gzip</th>\n      <td>1.769707</td>\n      <td>1.582508</td>\n      <td>10.405967</td>\n      <td>13.619591</td>\n      <td>0.775855</td>\n      <td>7.144842</td>\n      <td>2.325314</td>\n      <td>4.695189</td>\n      <td>0.937486</td>\n      <td>10.250674</td>\n    </tr>\n    <tr>\n      <th>jelly-noprefix-sm</th>\n      <td>20.562517</td>\n      <td>23.371771</td>\n      <td>33.439573</td>\n      <td>50.282383</td>\n      <td>17.099687</td>\n      <td>37.023640</td>\n      <td>28.657134</td>\n      <td>35.010527</td>\n      <td>17.381259</td>\n      <td>55.544104</td>\n    </tr>\n    <tr>\n      <th>jelly-noprefix-sm-gzip</th>\n      <td>2.018094</td>\n      <td>1.749579</td>\n      <td>10.385310</td>\n      <td>13.608996</td>\n      <td>0.804673</td>\n      <td>7.822569</td>\n      <td>2.820073</td>\n      <td>5.284860</td>\n      <td>0.969331</td>\n      <td>10.271851</td>\n    </tr>\n    <tr>\n      <th>jelly-norepeat</th>\n      <td>24.313987</td>\n      <td>24.371531</td>\n      <td>35.891476</td>\n      <td>56.362592</td>\n      <td>18.081784</td>\n      <td>34.483765</td>\n      <td>21.273204</td>\n      <td>28.381949</td>\n      <td>18.213821</td>\n      <td>53.042944</td>\n    </tr>\n    <tr>\n      <th>jelly-norepeat-gzip</th>\n      <td>3.826190</td>\n      <td>2.934659</td>\n      <td>12.705222</td>\n      <td>15.328056</td>\n      <td>2.044610</td>\n      <td>8.843762</td>\n      <td>3.354573</td>\n      <td>6.797645</td>\n      <td>2.152904</td>\n      <td>12.724894</td>\n    </tr>\n    <tr>\n      <th>jena-proto</th>\n      <td>110.154057</td>\n      <td>106.846809</td>\n      <td>108.291433</td>\n      <td>109.905764</td>\n      <td>106.293215</td>\n      <td>109.509542</td>\n      <td>105.700771</td>\n      <td>107.925817</td>\n      <td>106.285225</td>\n      <td>112.635800</td>\n    </tr>\n    <tr>\n      <th>jena-proto-gzip</th>\n      <td>5.559780</td>\n      <td>3.844618</td>\n      <td>12.875937</td>\n      <td>18.342920</td>\n      <td>2.600573</td>\n      <td>11.377339</td>\n      <td>4.160474</td>\n      <td>7.040552</td>\n      <td>3.083898</td>\n      <td>13.614690</td>\n    </tr>\n    <tr>\n      <th>n3</th>\n      <td>100.000000</td>\n      <td>100.000000</td>\n      <td>100.000000</td>\n      <td>100.000000</td>\n      <td>100.000000</td>\n      <td>100.000000</td>\n      <td>100.000000</td>\n      <td>100.000000</td>\n      <td>100.000000</td>\n      <td>100.000000</td>\n    </tr>\n    <tr>\n      <th>n3-gzip</th>\n      <td>4.392435</td>\n      <td>3.346989</td>\n      <td>10.834264</td>\n      <td>16.148384</td>\n      <td>2.594902</td>\n      <td>9.095716</td>\n      <td>3.188561</td>\n      <td>7.003955</td>\n      <td>2.763578</td>\n      <td>11.471665</td>\n    </tr>\n    <tr>\n      <th>rdf-xml</th>\n      <td>28.042104</td>\n      <td>49.663984</td>\n      <td>51.629319</td>\n      <td>60.821710</td>\n      <td>46.121703</td>\n      <td>50.231362</td>\n      <td>50.370222</td>\n      <td>54.527295</td>\n      <td>46.466766</td>\n      <td>76.258510</td>\n    </tr>\n    <tr>\n      <th>rdf-xml-gzip</th>\n      <td>2.854421</td>\n      <td>1.284269</td>\n      <td>7.953026</td>\n      <td>8.669844</td>\n      <td>0.753194</td>\n      <td>6.112020</td>\n      <td>1.457086</td>\n      <td>4.120629</td>\n      <td>0.928128</td>\n      <td>8.845067</td>\n    </tr>\n    <tr>\n      <th>turtle</th>\n      <td>65.937616</td>\n      <td>68.004122</td>\n      <td>46.316058</td>\n      <td>88.884935</td>\n      <td>69.090445</td>\n      <td>78.512261</td>\n      <td>71.974910</td>\n      <td>78.352477</td>\n      <td>69.406307</td>\n      <td>98.256250</td>\n    </tr>\n    <tr>\n      <th>turtle-gzip</th>\n      <td>2.205550</td>\n      <td>1.531260</td>\n      <td>7.071971</td>\n      <td>9.504308</td>\n      <td>0.965433</td>\n      <td>6.421030</td>\n      <td>1.985393</td>\n      <td>4.315261</td>\n      <td>1.019185</td>\n      <td>9.291127</td>\n    </tr>\n  </tbody>\n</table>\n</div>"
     },
     "execution_count": 10,
     "metadata": {},
     "output_type": "execute_result"
    }
   ],
   "source": [
    "dt_pivot = dt_exps.pivot(index='method', columns='dataset', values='compression')\n",
    "dt_pivot"
   ],
   "metadata": {
    "collapsed": false,
    "pycharm": {
     "name": "#%%\n"
    }
   }
  },
  {
   "cell_type": "code",
   "execution_count": 11,
   "outputs": [
    {
     "name": "stderr",
     "output_type": "stream",
     "text": [
      "/tmp/ipykernel_221744/1471772930.py:1: FutureWarning: In future versions `DataFrame.to_latex` is expected to utilise the base implementation of `Styler.to_latex` for formatting and rendering. The arguments signature may therefore change. It is recommended instead to use `DataFrame.style.to_latex` which also contains additional functionality.\n",
      "  dt_pivot.to_latex(\n"
     ]
    }
   ],
   "source": [
    "dt_pivot.to_latex(\n",
    "    'extra/latex/size.tex',\n",
    "    float_format='%.2f',\n",
    "    bold_rows=True,\n",
    "    caption='Compression Ratio (\\%)',\n",
    ")"
   ],
   "metadata": {
    "collapsed": false,
    "pycharm": {
     "name": "#%%\n"
    }
   }
  }
 ],
 "metadata": {
  "kernelspec": {
   "display_name": "Python 3",
   "language": "python",
   "name": "python3"
  },
  "language_info": {
   "codemirror_mode": {
    "name": "ipython",
    "version": 2
   },
   "file_extension": ".py",
   "mimetype": "text/x-python",
   "name": "python",
   "nbconvert_exporter": "python",
   "pygments_lexer": "ipython2",
   "version": "2.7.6"
  }
 },
 "nbformat": 4,
 "nbformat_minor": 0
}